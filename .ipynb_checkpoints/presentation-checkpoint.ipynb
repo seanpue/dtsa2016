{
 "cells": [
  {
   "cell_type": "markdown",
   "metadata": {
    "slideshow": {
     "slide_type": "slide"
    }
   },
   "source": [
    "# Textual Encoding of Hindi-Urdu Poetry for Data-Rich Literary Analysis\n",
    "\n",
    "A. Sean Pue, Michigan State University\n",
    "\n",
    "pue@msu.edu\n",
    "\n",
    "@seanpue\n",
    "\n",
    "http://seanpue.com\n",
    "\n",
    "Github: seanpue\n",
    "\n",
    "Talk Repository: http://github.com/seanpue/dtsa2016\n"
   ]
  },
  {
   "cell_type": "raw",
   "metadata": {
    "slideshow": {
     "slide_type": "skip"
    }
   },
   "source": [
    "<style type=\"text/css\">\n",
    ".input_prompt, .input_area, .output_prompt {\n",
    "    display:none !important;\n",
    "}\n",
    ".urdu{font: 26pt Jameel Noori Nastaleeq};\n",
    "\n",
    "</style>\n",
    "\n",
    "\n"
   ]
  },
  {
   "cell_type": "code",
   "execution_count": 1,
   "metadata": {
    "collapsed": true,
    "slideshow": {
     "slide_type": "skip"
    }
   },
   "outputs": [],
   "source": [
    "from IPython.display import IFrame"
   ]
  },
  {
   "cell_type": "markdown",
   "metadata": {
    "slideshow": {
     "slide_type": "slide"
    }
   },
   "source": [
    "# Hindi/Urdu\n",
    "\n",
    "## हिन्दी\n",
    "\n",
    "* left-to-right devanagari script preferred\n",
    "* more tatsam (from Sanskrit) words\n",
    "\n",
    "## اردو\n",
    "\n",
    "* right-to-left nastaliq script preferred\n",
    "* more Perso-Arabic words\n",
    "\n",
    "## \"different *literary styles* based on the *same* linguistic subdialect\" (Masica 1991)"
   ]
  },
  {
   "cell_type": "markdown",
   "metadata": {
    "slideshow": {
     "slide_type": "slide"
    }
   },
   "source": [
    "# Research Question #1\n",
    "\n",
    "## How to best analyze and encode texts in both scripts?"
   ]
  },
  {
   "cell_type": "markdown",
   "metadata": {
    "slideshow": {
     "slide_type": "slide"
    }
   },
   "source": [
    "# Challenges\n",
    "\n"
   ]
  },
  {
   "cell_type": "markdown",
   "metadata": {
    "slideshow": {
     "slide_type": "fragment"
    }
   },
   "source": [
    "## Disambiguating between words\n",
    "\n",
    "###  आम aam as عام or آم\n",
    "\n",
    "### کیا as किया kiyaa or क्या kyaa\n"
   ]
  },
  {
   "cell_type": "markdown",
   "metadata": {
    "slideshow": {
     "slide_type": "slide"
    }
   },
   "source": [
    "# Challenges\n",
    "\n",
    "## Certain types of analysis require additional information:\n",
    "\n",
    "* morphology\n",
    "* grammatical markers, such as the iẓāfat (kitāb-e dil)\n",
    "* compound-word boundaries"
   ]
  },
  {
   "cell_type": "markdown",
   "metadata": {
    "slideshow": {
     "slide_type": "slide"
    }
   },
   "source": [
    "# Background Project\n",
    "\n",
    "## Desertful of Roses by Frances W. Pritchett\n",
    "\n",
    "### http://www.columbia.edu/itc/mealac/pritchett/00ghalib/"
   ]
  },
  {
   "cell_type": "raw",
   "metadata": {
    "slideshow": {
     "slide_type": "slide"
    }
   },
   "source": [
    "<iframe src=http://www.columbia.edu/itc/mealac/pritchett/00ghalib width=1500 height=1000></iframe>"
   ]
  },
  {
   "cell_type": "markdown",
   "metadata": {
    "collapsed": true,
    "slideshow": {
     "slide_type": "slide"
    }
   },
   "source": [
    "# Hindi/Urdu Text and IPA from Transliteration\n",
    "\n",
    "* roman *tokens* parsed into devanagari/nastaliq versions\n",
    "\n",
    "* requires looking before and after for particular combinations\n",
    "\n",
    "* involves both tokens and classes of tokens, eg. consonant, vowel, etc.\n",
    "\n",
    "* quite but not entirely accurate\n",
    "\n",
    "* now using a lexer/parser"
   ]
  },
  {
   "cell_type": "raw",
   "metadata": {
    "slideshow": {
     "slide_type": "slide"
    }
   },
   "source": [
    "<!-- https://raw.githubusercontent.com/seanpue/graphparser/master/settings/urdu.yaml -->\n",
    "<iframe src=pres_files/urdu.html width=1800 height=1000></iframe>"
   ]
  },
  {
   "cell_type": "raw",
   "metadata": {
    "slideshow": {
     "slide_type": "slide"
    }
   },
   "source": [
    "<!-- https://raw.githubusercontent.com/seanpue/graphparser/master/settings/devanagari.yaml -->\n",
    "<iframe src=pres_files/devanagari.html width=1800 height=1000></iframe>"
   ]
  },
  {
   "cell_type": "markdown",
   "metadata": {
    "slideshow": {
     "slide_type": "slide"
    }
   },
   "source": [
    "# Workflow\n",
    "\n",
    "* Have texts transcribed into Unicode\n",
    "* Convert those files into spreadsheet *tables*\n",
    "  * easy to manipulate by an editor or programmatically\n",
    "  * very clean\n",
    "* Attach transliteration, lemaa information to the words\n",
    "* Analyze as a DataFrame\n",
    "* Reconstitute as TEI if necessary"
   ]
  },
  {
   "cell_type": "code",
   "execution_count": 2,
   "metadata": {
    "collapsed": false,
    "slideshow": {
     "slide_type": "slide"
    }
   },
   "outputs": [],
   "source": [
    "import sys\n",
    "sys.path.append('./graphparser/')\n",
    "import graphparser as gp\n",
    "import pandas as pd\n",
    "import networkx as nx\n",
    "import logging,sys,codecs,re,csv\n"
   ]
  },
  {
   "cell_type": "markdown",
   "metadata": {
    "slideshow": {
     "slide_type": "slide"
    }
   },
   "source": [
    "![XKCD Python Cartoon](pres_files/python.png)"
   ]
  },
  {
   "cell_type": "markdown",
   "metadata": {
    "slideshow": {
     "slide_type": "slide"
    }
   },
   "source": [
    "# Data File Structure"
   ]
  },
  {
   "cell_type": "code",
   "execution_count": 3,
   "metadata": {
    "collapsed": false,
    "slideshow": {
     "slide_type": "skip"
    }
   },
   "outputs": [],
   "source": [
    "pd.set_option(\"display.max_rows\",25)"
   ]
  },
  {
   "cell_type": "code",
   "execution_count": 4,
   "metadata": {
    "collapsed": false,
    "slideshow": {
     "slide_type": "fragment"
    }
   },
   "outputs": [
    {
     "data": {
      "text/html": [
       "<div>\n",
       "<table border=\"1\" class=\"dataframe\">\n",
       "  <thead>\n",
       "    <tr style=\"text-align: right;\">\n",
       "      <th></th>\n",
       "      <th>type</th>\n",
       "      <th>transliteration</th>\n",
       "      <th>urdu</th>\n",
       "      <th>notes</th>\n",
       "    </tr>\n",
       "  </thead>\n",
       "  <tbody>\n",
       "    <tr>\n",
       "      <th>0</th>\n",
       "      <td>TITLE</td>\n",
       "      <td>NaN</td>\n",
       "      <td>چل چلاؤ</td>\n",
       "      <td>NaN</td>\n",
       "    </tr>\n",
       "    <tr>\n",
       "      <th>1</th>\n",
       "      <td>LINE</td>\n",
       "      <td>NaN</td>\n",
       "      <td>بس دیکھا اور پھر بھول گئے،</td>\n",
       "      <td>NaN</td>\n",
       "    </tr>\n",
       "    <tr>\n",
       "      <th>2</th>\n",
       "      <td>TOKEN</td>\n",
       "      <td>bas</td>\n",
       "      <td>بس</td>\n",
       "      <td>NaN</td>\n",
       "    </tr>\n",
       "    <tr>\n",
       "      <th>3</th>\n",
       "      <td>TOKEN</td>\n",
       "      <td>dekhaa</td>\n",
       "      <td>دیکھا</td>\n",
       "      <td>NaN</td>\n",
       "    </tr>\n",
       "    <tr>\n",
       "      <th>4</th>\n",
       "      <td>TOKEN</td>\n",
       "      <td>aur</td>\n",
       "      <td>اور</td>\n",
       "      <td>NaN</td>\n",
       "    </tr>\n",
       "    <tr>\n",
       "      <th>5</th>\n",
       "      <td>TOKEN</td>\n",
       "      <td>phir</td>\n",
       "      <td>پھر</td>\n",
       "      <td>NaN</td>\n",
       "    </tr>\n",
       "    <tr>\n",
       "      <th>6</th>\n",
       "      <td>TOKEN</td>\n",
       "      <td>bhuul</td>\n",
       "      <td>بھول</td>\n",
       "      <td>NaN</td>\n",
       "    </tr>\n",
       "    <tr>\n",
       "      <th>7</th>\n",
       "      <td>TOKEN</td>\n",
       "      <td>ga))e</td>\n",
       "      <td>گئے</td>\n",
       "      <td>NaN</td>\n",
       "    </tr>\n",
       "    <tr>\n",
       "      <th>8</th>\n",
       "      <td>TOKEN</td>\n",
       "      <td>,</td>\n",
       "      <td>،</td>\n",
       "      <td>NaN</td>\n",
       "    </tr>\n",
       "    <tr>\n",
       "      <th>9</th>\n",
       "      <td>LINE</td>\n",
       "      <td>NaN</td>\n",
       "      <td>جب حُسن نگاہوں میں آیا</td>\n",
       "      <td>NaN</td>\n",
       "    </tr>\n",
       "    <tr>\n",
       "      <th>10</th>\n",
       "      <td>TOKEN</td>\n",
       "      <td>jab</td>\n",
       "      <td>جب</td>\n",
       "      <td>NaN</td>\n",
       "    </tr>\n",
       "    <tr>\n",
       "      <th>11</th>\n",
       "      <td>TOKEN</td>\n",
       "      <td>;husn</td>\n",
       "      <td>حُسن</td>\n",
       "      <td>NaN</td>\n",
       "    </tr>\n",
       "    <tr>\n",
       "      <th>...</th>\n",
       "      <td>...</td>\n",
       "      <td>...</td>\n",
       "      <td>...</td>\n",
       "      <td>...</td>\n",
       "    </tr>\n",
       "    <tr>\n",
       "      <th>21963</th>\n",
       "      <td>TOKEN</td>\n",
       "      <td>ik</td>\n",
       "      <td>اک</td>\n",
       "      <td>NaN</td>\n",
       "    </tr>\n",
       "    <tr>\n",
       "      <th>21964</th>\n",
       "      <td>TOKEN</td>\n",
       "      <td>ke</td>\n",
       "      <td>کے</td>\n",
       "      <td>NaN</td>\n",
       "    </tr>\n",
       "    <tr>\n",
       "      <th>21965</th>\n",
       "      <td>TOKEN</td>\n",
       "      <td>pahluu</td>\n",
       "      <td>پہلو</td>\n",
       "      <td>NaN</td>\n",
       "    </tr>\n",
       "    <tr>\n",
       "      <th>21966</th>\n",
       "      <td>TOKEN</td>\n",
       "      <td>me;n</td>\n",
       "      <td>میں</td>\n",
       "      <td>NaN</td>\n",
       "    </tr>\n",
       "    <tr>\n",
       "      <th>21967</th>\n",
       "      <td>TOKEN</td>\n",
       "      <td>;xaak</td>\n",
       "      <td>خاک</td>\n",
       "      <td>NaN</td>\n",
       "    </tr>\n",
       "    <tr>\n",
       "      <th>21968</th>\n",
       "      <td>TOKEN</td>\n",
       "      <td>aaluudah</td>\n",
       "      <td>آلودہ</td>\n",
       "      <td>NaN</td>\n",
       "    </tr>\n",
       "    <tr>\n",
       "      <th>21969</th>\n",
       "      <td>TOKEN</td>\n",
       "      <td>aagahii</td>\n",
       "      <td>آگہی</td>\n",
       "      <td>NaN</td>\n",
       "    </tr>\n",
       "    <tr>\n",
       "      <th>21970</th>\n",
       "      <td>TOKEN</td>\n",
       "      <td>hai</td>\n",
       "      <td>ہے</td>\n",
       "      <td>NaN</td>\n",
       "    </tr>\n",
       "    <tr>\n",
       "      <th>21971</th>\n",
       "      <td>TOKEN</td>\n",
       "      <td>--</td>\n",
       "      <td>۔</td>\n",
       "      <td>NaN</td>\n",
       "    </tr>\n",
       "    <tr>\n",
       "      <th>21972</th>\n",
       "      <td>LINE</td>\n",
       "      <td>NaN</td>\n",
       "      <td>۔۔۔۔۔۔۔۔</td>\n",
       "      <td>NaN</td>\n",
       "    </tr>\n",
       "    <tr>\n",
       "      <th>21973</th>\n",
       "      <td>TOKEN</td>\n",
       "      <td>----------------</td>\n",
       "      <td>۔۔۔۔۔۔۔۔</td>\n",
       "      <td>NaN</td>\n",
       "    </tr>\n",
       "    <tr>\n",
       "      <th>21974</th>\n",
       "      <td>LINE</td>\n",
       "      <td>NaN</td>\n",
       "      <td>NaN</td>\n",
       "      <td>NaN</td>\n",
       "    </tr>\n",
       "  </tbody>\n",
       "</table>\n",
       "<p>21975 rows × 4 columns</p>\n",
       "</div>"
      ],
      "text/plain": [
       "        type    transliteration                         urdu notes\n",
       "0      TITLE                NaN                    چل چلاؤ    NaN\n",
       "1       LINE                NaN  بس دیکھا اور پھر بھول گئے،    NaN\n",
       "2      TOKEN                bas                           بس   NaN\n",
       "3      TOKEN             dekhaa                        دیکھا   NaN\n",
       "4      TOKEN                aur                          اور   NaN\n",
       "5      TOKEN               phir                          پھر   NaN\n",
       "6      TOKEN              bhuul                         بھول   NaN\n",
       "7      TOKEN              ga))e                          گئے   NaN\n",
       "8      TOKEN                  ,                            ،   NaN\n",
       "9       LINE                NaN     جب حُسن نگاہوں میں آیا    NaN\n",
       "10     TOKEN                jab                           جب   NaN\n",
       "11     TOKEN              ;husn                         حُسن   NaN\n",
       "...      ...                ...                          ...   ...\n",
       "21963  TOKEN                 ik                           اک   NaN\n",
       "21964  TOKEN                 ke                           کے   NaN\n",
       "21965  TOKEN             pahluu                         پہلو   NaN\n",
       "21966  TOKEN               me;n                          میں   NaN\n",
       "21967  TOKEN              ;xaak                          خاک   NaN\n",
       "21968  TOKEN           aaluudah                       آلودہ   NaN\n",
       "21969  TOKEN            aagahii                        آگہی   NaN\n",
       "21970  TOKEN                hai                           ہے   NaN\n",
       "21971  TOKEN                 --                            ۔   NaN\n",
       "21972   LINE                NaN                     ۔۔۔۔۔۔۔۔   NaN\n",
       "21973  TOKEN   ----------------                     ۔۔۔۔۔۔۔۔   NaN\n",
       "21974   LINE                NaN                          NaN   NaN\n",
       "\n",
       "[21975 rows x 4 columns]"
      ]
     },
     "execution_count": 4,
     "metadata": {},
     "output_type": "execute_result"
    }
   ],
   "source": [
    "pd.DataFrame.from_csv('data/miraji_nazmen.csv', encoding='utf-16')\n"
   ]
  },
  {
   "cell_type": "markdown",
   "metadata": {
    "slideshow": {
     "slide_type": "slide"
    }
   },
   "source": [
    "#Why digital analysis?\n",
    "\n",
    "## Motivated by the strong and recurrent discourse about ‘sound’ in modern Hindi/Urdu poetry\n",
    "\n",
    "## Hindi/Urdu as a language involves:\n",
    "* Perso-Arabic vocabulary and forms (ghazal, masnavi, etc.)\n",
    "* Indic (“Hindi”) vocabulary and forms\n",
    "* Relation of meter and forms to literary community\n",
    "\n",
    "## Possibilities of providing experiential or graphical “proof” to prose assertions\n",
    "\n"
   ]
  },
  {
   "cell_type": "markdown",
   "metadata": {
    "slideshow": {
     "slide_type": "slide"
    }
   },
   "source": [
    "# Urdu Meters\n",
    "\n",
    "* The meters are quantitative (not qualitative), based on length rather than stress\n",
    "* Metrical units involve “short” and “long” vowels\n",
    "* Metrical units are not necessarily syllables\n",
    "  * E.g. \tRaaj   \t= - (raa j)\t [where = is long, - is short]\n",
    "\n",
    "* Flexibilities\n",
    "  * Long vowels can be shortened at the end of words\n",
    "  * Metrical units can span words\n",
    "  * There are particular word-based anomalies/flexibilities\n",
    "\n",
    "\n",
    "\n",
    "\n"
   ]
  },
  {
   "cell_type": "markdown",
   "metadata": {
    "slideshow": {
     "slide_type": "slide"
    }
   },
   "source": [
    "# Urdu Prosody\n",
    "\n",
    "Descriptions in Urdu from Persian (Farsi) and earlier Arabic prosody, as following a particular pattern (dates back to al-Khalil of Basra 718 CE)\n",
    "* Describe metrical feet using text where certain vowels are “moving” or “silent,” e. g.\n",
    "  * fāʿilātun = - = =\tفاعلاتن\n",
    "  * fāʿilun = - = \tفاعلن\n",
    "  * faʿūlan - = =\tفعولن\n",
    "* Meters named using primary metrical “wheels” and different sorts of modifications to them\n",
    "* Meter is referred to as a baḥr (“ocean”)\n",
    "\n"
   ]
  },
  {
   "cell_type": "markdown",
   "metadata": {
    "slideshow": {
     "slide_type": "slide"
    }
   },
   "source": [
    "![Naqsh Faryaadii](pres_files/naqsh_faryaadii.png)\n",
    "* Meter: = - = = / = - = = / = - = = / = - =\n",
    "    \n",
    "نقش فریادی ہے کس کی سوخی تحریر کا\n",
    "\n",
    "کاغذی ہے پیرہن ہر پیکر تصویر کا\n",
    "\n",
    "\n",
    "naqsh faryaadii hai kis kii sho;xii-e ta;hriir kaa\n",
    "\n",
    "kaa;gazii hai pairahan har paikar-e ta.sviir kaa\n",
    "\n",
    "\n",
    "नक़्श फ़रयादी है किस की शोख़ी-ए तहरीर का \n",
    "\n",
    "काग़ज़ी है पैरहन हर पैकर-ए तस्वीर का\n"
   ]
  },
  {
   "cell_type": "markdown",
   "metadata": {
    "slideshow": {
     "slide_type": "slide"
    }
   },
   "source": [
    "# Computational Problem\n",
    "\n",
    "How to computationally scan Hindi/Urdu poetry in a scalable and effective way?"
   ]
  },
  {
   "cell_type": "raw",
   "metadata": {
    "slideshow": {
     "slide_type": "skip"
    }
   },
   "source": [
    "<style type=\"text/css\">\n",
    ".input_prompt, .input_area, .output_prompt {\n",
    "    display:none !important;\n",
    "}\n",
    ".urdu{font: 26pt Jameel Noori Nastaleeq};\n",
    "\n",
    "</style>\n"
   ]
  },
  {
   "cell_type": "markdown",
   "metadata": {
    "slideshow": {
     "slide_type": "slide"
    }
   },
   "source": [
    "What is topic modeling?"
   ]
  },
  {
   "cell_type": "code",
   "execution_count": 5,
   "metadata": {
    "collapsed": false,
    "slideshow": {
     "slide_type": "skip"
    }
   },
   "outputs": [
    {
     "data": {
      "text/plain": [
       "True"
      ]
     },
     "execution_count": 5,
     "metadata": {},
     "output_type": "execute_result"
    }
   ],
   "source": [
    "import pydot\n",
    "\n",
    "dot_object = pydot.Dot(graph_name=\"main_graph\",rankdir=\"LR\", labelloc='b', \n",
    "                       labeljust='r', ranksep=1)\n",
    "\n",
    "topic1 = pydot.Node(name='topic1', texlbl=r'topic1', label='Topic #1', shape='square')\n",
    "dot_object.add_node(topic1)\n",
    "topic2 = pydot.Node(name='topic2', texlbl=r'topic2', label='Topic #2', shape='square')\n",
    "dot_object.add_node(topic2)\n",
    "#topic3 = pydot.Node(name='topic3', texlbl=r'topic3', label='عاشق', shape='square', fontname=\"Jameel Noori Nastaleeq\")\n",
    "#dot_object.add_node(topic3)\n",
    "\n",
    "plate_document = pydot.Cluster(graph_name='plate_document', label='Document', fontsize=24)\n",
    "\n",
    "word1= pydot.Node(name='word', texlbl=r'\\word', label='Word')\n",
    "plate_document.add_node(word1)\n",
    "word2= pydot.Node(name='word2', texlbl=r'\\word', label='Word')\n",
    "plate_document.add_node(word2)\n",
    "word3= pydot.Node(name='word3', texlbl=r'\\word', label='Word')\n",
    "plate_document.add_node(word3)\n",
    "\n",
    "\n",
    "# add plate k to graph\n",
    "dot_object.add_subgraph(plate_document)\n",
    "\n",
    "\n",
    "dot_object.add_edge(pydot.Edge(topic1, word1))\n",
    "dot_object.add_edge(pydot.Edge(topic1, word2))\n",
    "dot_object.add_edge(pydot.Edge(topic2, word3))\n",
    "#dot_object.add_edge(pydot.Edge(node_theta, node_z))\n",
    "#dot_object.add_edge(pydot.Edge(node_z, node_w))\n",
    "#dot_object.add_edge(pydot.Edge(node_w, node_beta, dir='back'))\n",
    "#dot_object.add_edge(pydot.Edge(node_beta, node_eta, dir='back'))\n",
    "dot_object.write('graph.dotfile', format='raw', prog='dot')"
   ]
  },
  {
   "cell_type": "code",
   "execution_count": 6,
   "metadata": {
    "collapsed": false,
    "slideshow": {
     "slide_type": "skip"
    }
   },
   "outputs": [],
   "source": [
    "dot_object.write_png('topic_model.png', prog='dot')\n",
    "from IPython.display import Image\n",
    "#Image('topic_model.png')"
   ]
  },
  {
   "cell_type": "markdown",
   "metadata": {
    "slideshow": {
     "slide_type": "fragment"
    }
   },
   "source": [
    "![Topic Model Diagram](topic_model.png)"
   ]
  },
  {
   "cell_type": "code",
   "execution_count": 7,
   "metadata": {
    "collapsed": false,
    "slideshow": {
     "slide_type": "skip"
    }
   },
   "outputs": [],
   "source": [
    "from gensim import corpora, models, similarities\n",
    "import collections,operator,sys,numpy,pandas\n",
    "from jinja2 import Template\n",
    "\n",
    "\n",
    "sys.path.append('graphparser/')\n",
    "from graphparser import GraphParser\n",
    "urdup = GraphParser('graphparser/settings/urdu.yaml')\n",
    "\n",
    "with open('ghalib-concordance/output/lemma_documents.txt','r') as f:\n",
    "    text = f.read()\n",
    "\n",
    "verses = text.split('\\n')\n",
    "verses_orig=[urdup.parse(v).output for v in verses]\n",
    "assert(len(verses)==1461)\n",
    "tokens=[]\n",
    "\n",
    "for v in verses:\n",
    "    tokens+= v.split(' ')\n",
    "\n",
    "    stoplist=['honaa','','karnaa',\n",
    "'kaa','se','me;n','nah','vuh','kih','ko','jaanaa','kii','nahii;n','mai;n','kyaa','meraa','jo','ham',\n",
    "'bhii','to','kahnaa','yih','aanaa','ne','teraa','dekhnaa','aur','par','denaa',';gaalib','ko))ii','kyuu;n',\n",
    "'hii','pah','bah','gar','rahnaa','tuu','phir','apnaa','har','ay','ik','kis','tum','kuchh',\n",
    "'agar','ek','asad','ab','chaahiye','puuchhnaa','yuu;n','hamaaraa',\n",
    "'mauj','yaa;n','nikalnaa','yaa','milnaa','liye','yak',\"jaan'naa\",'achchhaa','haa))e','vaa;n','tak','paanaa',\n",
    "'magar','taa','pa;rnaa','khe;nchnaa','kabhii','lekin','u;thnaa','varnah','chalnaa',\n",
    "'phir','lenaa','denaa','kahaa;n','sar','jab',\"go\",\"ban'naa\",\"ya((nii\",\"vuhii\",\"aap\",\"saknaa\",\"kisii\",\"yihii\"\n",
    "'jitnaa','saa','pahle','lagnaa','vale','mat','sahii','kam',\n",
    "'bahut','aisaa','qadar','aage','abhii','az','ba;gair','kyuu;nkar','buraa',\n",
    "'hanuuz','baar']\n",
    "\n",
    "verbs=[w for w in set(tokens) if w.endswith('naa') and w!='tamanna']\n",
    "\n",
    "stoplist+=verbs"
   ]
  },
  {
   "cell_type": "code",
   "execution_count": 8,
   "metadata": {
    "collapsed": false,
    "slideshow": {
     "slide_type": "skip"
    }
   },
   "outputs": [],
   "source": [
    "texts = [[word for word in verse.lower().split() if word not in stoplist] for verse in verses]\n",
    "\n",
    "all_tokens = sum(texts, [])\n",
    "tokens_once = set(word for word in set(all_tokens) if all_tokens.count(word) == 1)\n",
    "\n",
    "texts = [[word for word in text if word not in tokens_once] for text in texts]\n",
    "texts = [[urdup.parse(word).output for word in text] for text in texts]\n",
    "\n",
    "dictionary = corpora.Dictionary(texts)\n",
    "\n",
    "corpus = [dictionary.doc2bow(text) for text in texts]"
   ]
  },
  {
   "cell_type": "code",
   "execution_count": 9,
   "metadata": {
    "collapsed": false,
    "slideshow": {
     "slide_type": "skip"
    }
   },
   "outputs": [],
   "source": [
    "def gen_model(num_topics=15, passes=10,iterations=250,chunksize=10,workers=5):\n",
    "    model = models.LdaMulticore(corpus, id2word=dictionary, num_topics=num_topics, eval_every=10, passes=passes,iterations=iterations,workers=workers)\n",
    "    return model\n",
    "model=gen_model()\n"
   ]
  },
  {
   "cell_type": "markdown",
   "metadata": {
    "slideshow": {
     "slide_type": "slide"
    }
   },
   "source": [
    "What is a topic?"
   ]
  },
  {
   "cell_type": "markdown",
   "metadata": {
    "slideshow": {
     "slide_type": "fragment"
    }
   },
   "source": [
    "usually a probability distribution"
   ]
  },
  {
   "cell_type": "markdown",
   "metadata": {
    "slideshow": {
     "slide_type": "slide"
    }
   },
   "source": [
    "Example: 15 topics from Ghalib's Divan"
   ]
  },
  {
   "cell_type": "code",
   "execution_count": 11,
   "metadata": {
    "collapsed": false,
    "slideshow": {
     "slide_type": "skip"
    }
   },
   "outputs": [
    {
     "name": "stderr",
     "output_type": "stream",
     "text": [
      "/Users/seanpue/anaconda/envs/python3/lib/python3.5/site-packages/ipykernel/__main__.py:16: FutureWarning: sort(columns=....) is deprecated, use sort_values(by=.....)\n"
     ]
    }
   ],
   "source": [
    "\n",
    "\n",
    "def get_verses():\n",
    "    global model\n",
    "    global corpus\n",
    "    text_topics = [ model [x] for x in corpus ]\n",
    "    da = numpy.zeros((len(text_topics),model.num_topics))\n",
    "    for i, v in enumerate(text_topics):\n",
    "        for topic, value in v:\n",
    "            da[i,topic] = value\n",
    "    df = pandas.DataFrame(da) # probably a way to compress the above\n",
    "    verses_out = {}\n",
    "\n",
    "    for i in range (model.num_topics):\n",
    "        verses = []\n",
    "        for x in df.sort(columns=[i],ascending=False)[i].index:\n",
    "            v = df[i][x]\n",
    "            if (v > 0):\n",
    "                verses.append(verses_orig[x])\n",
    "\n",
    "        verses_out['topic_'+str(i)]=verses\n",
    "    return verses_out\n",
    "\n",
    "\n",
    "num_words = 20\n",
    "data = {'topic_words': [model.show_topic(i,topn=num_words) for i in range(model.num_topics)],\n",
    "        'topic_verses': get_verses()}\n"
   ]
  },
  {
   "cell_type": "code",
   "execution_count": 12,
   "metadata": {
    "collapsed": false,
    "slideshow": {
     "slide_type": "fragment"
    }
   },
   "outputs": [
    {
     "name": "stdout",
     "output_type": "stream",
     "text": [
      "Topic # 1\n",
      "('دل', 0.022736092999611903)\n",
      "('پانو', 0.021338669050970229)\n",
      "('عشق', 0.012930060118660762)\n",
      "('طرح', 0.010336583438885157)\n",
      "('چشم', 0.0092438153010541979)\n",
      "('سایہ', 0.0088866184981056893)\n",
      "('حسرت', 0.008492627787419044)\n",
      "('ناز', 0.0082843407414475139)\n",
      "('جلوہ', 0.00798499554293787)\n",
      "('لذّت', 0.0079605382647480027)\n",
      "('برق', 0.0079605381751552632)\n",
      "('وفا', 0.0073417809554842308)\n",
      "('نالہ', 0.0066580176002507428)\n",
      "('یار', 0.0065524500020972109)\n",
      "('زنجیر', 0.0065242641033103135)\n",
      "('ستم', 0.006475336314957207)\n",
      "('ذوق', 0.0062236936802671054)\n",
      "('یاد', 0.0061957259363934003)\n",
      "('گریہ', 0.0057341318381815476)\n",
      "('گرم', 0.0053361851137337249)\n",
      "Topic # 2\n",
      "('وفا', 0.027794057874284701)\n",
      "('دل', 0.015887778292937818)\n",
      "('گل', 0.015444968917307504)\n",
      "('عشق', 0.014884167145019986)\n",
      "('خیال', 0.012919727517173437)\n",
      "('گویا', 0.010789902417500673)\n",
      "('آنکھ', 0.010726919487730352)\n",
      "('سلامت', 0.010460352269209879)\n",
      "('نالہ', 0.0092749655295324904)\n",
      "('عمر', 0.0087477229181823733)\n",
      "('نفس', 0.0074443804013880899)\n",
      "('دن', 0.0074165423140923042)\n",
      "('کار', 0.0068450084240849075)\n",
      "('بزم', 0.0060547208605579187)\n",
      "('راہ', 0.0058154651453025796)\n",
      "('کہیں', 0.0056137951544426015)\n",
      "('چمن', 0.0056137947676755352)\n",
      "('ہوا', 0.0056137942516706184)\n",
      "('رقیب', 0.0056003226234377706)\n",
      "('بہار', 0.0056003218672578958)\n",
      "Topic # 3\n",
      "('غم', 0.025622882861400017)\n",
      "('جہان', 0.015718407092265411)\n",
      "('گل', 0.013610407205971758)\n",
      "('دل', 0.011745912613602949)\n",
      "('گرمی', 0.011644661808423126)\n",
      "('بیان', 0.0083596056625632985)\n",
      "('راہ', 0.0082244838592983489)\n",
      "('غافل', 0.0082095997911397073)\n",
      "('رگ', 0.008146321476258914)\n",
      "('سو', 0.0076659700242010581)\n",
      "('خاک', 0.0074486982964239975)\n",
      "('خون', 0.007186153543220968)\n",
      "('خوش', 0.0062020711518205587)\n",
      "('عمر', 0.0062020707824539632)\n",
      "('نظر', 0.006202070553182986)\n",
      "('دن', 0.0062020700699835021)\n",
      "('ہمہ', 0.0062020689060788975)\n",
      "('مزہ', 0.0061871853064659789)\n",
      "('کلام', 0.0061871849896173673)\n",
      "('موت', 0.0061871846532556632)\n",
      "Topic # 4\n",
      "('دل', 0.05041971355100127)\n",
      "('قطرہ', 0.014105851692029613)\n",
      "('خاک', 0.013860880822899111)\n",
      "('گل', 0.012030816699981)\n",
      "('آئینہ', 0.01193775150892171)\n",
      "('نگاہ', 0.011180978747599182)\n",
      "('کون', 0.010401118911069608)\n",
      "('خون', 0.0099258752917956682)\n",
      "('ہوا', 0.0098849487312760356)\n",
      "('آہ', 0.0092792933423818565)\n",
      "('شب', 0.0091894315079985509)\n",
      "('زلف', 0.0090362074186908659)\n",
      "('چشم', 0.0083219939757781074)\n",
      "('آج', 0.0081444219428388163)\n",
      "('ناز', 0.0078713409958350612)\n",
      "('قدح', 0.0078599430320199538)\n",
      "('خس', 0.0077641744945999127)\n",
      "('کہیں', 0.0076395252552082628)\n",
      "('نالہ', 0.0069599851734542693)\n",
      "('ذوق', 0.0067968489654221306)\n",
      "Topic # 5\n",
      "('گھر', 0.023309608208798009)\n",
      "('در', 0.015445184471060641)\n",
      "('بعد', 0.014751576634164999)\n",
      "('دل', 0.014176421357360006)\n",
      "('جان', 0.01284000836617206)\n",
      "('انداز', 0.011871010786165788)\n",
      "('عشق', 0.01048696082487849)\n",
      "('بلا', 0.0092560269404682299)\n",
      "('ہوا', 0.0085203284156983063)\n",
      "('راز', 0.0081341437008652755)\n",
      "('کاش', 0.0079410219980854801)\n",
      "('دربان', 0.0079110778830626515)\n",
      "('ہاتھ', 0.0068108158217238994)\n",
      "('داغ', 0.0067713445028595711)\n",
      "('نگاہ', 0.0064308175260683609)\n",
      "('بن', 0.0060758271711368978)\n",
      "('تمام', 0.0060629877366885207)\n",
      "('تماشا', 0.0060629876700849499)\n",
      "('جام', 0.0060629876495635034)\n",
      "('بے خودی', 0.0060629873705233201)\n",
      "Topic # 6\n",
      "('دم', 0.018511877775816418)\n",
      "('دیوار', 0.018501584788383811)\n",
      "('گل', 0.015694841611775052)\n",
      "('در', 0.014758044623465407)\n",
      "('دل', 0.012471541357193704)\n",
      "('غم', 0.011528889320038578)\n",
      "('دنیا', 0.011298046721284115)\n",
      "('یاد', 0.011142780332343297)\n",
      "('ہی', 0.010261956472086491)\n",
      "('شمع', 0.0099197072025559458)\n",
      "('شب', 0.0098031784506216087)\n",
      "('خون', 0.0094034348301845812)\n",
      "('نالہ', 0.0092192701467490069)\n",
      "('مژگان', 0.0085910426682053748)\n",
      "('کب', 0.0085910426341529594)\n",
      "('گناہ', 0.0082778173040333278)\n",
      "('دوست', 0.0080288084437923225)\n",
      "('ظلم', 0.0075673074664049447)\n",
      "('دن', 0.0075249425916284222)\n",
      "('غیر', 0.0072300809676694401)\n",
      "Topic # 7\n",
      "('ناز', 0.013831197600701119)\n",
      "('نام', 0.012358216119504313)\n",
      "('حسن', 0.010437720206937826)\n",
      "('جز', 0.010096258319940656)\n",
      "('جہان', 0.0085917947684954823)\n",
      "('اہل', 0.0083715117663382185)\n",
      "('شکوہ', 0.0073336021527504293)\n",
      "('دل', 0.006845037700095296)\n",
      "('حسرت', 0.006399387544355508)\n",
      "('ضعف', 0.0063840670549961251)\n",
      "('خم', 0.0063840665364749338)\n",
      "('ذرّہ', 0.006384066062915284)\n",
      "('محبّت', 0.0063840660121438257)\n",
      "('اشارہ', 0.0063840658224433283)\n",
      "('وقت', 0.0063840657293934141)\n",
      "('دریا', 0.0063840654967053994)\n",
      "('دن', 0.0063840653597772275)\n",
      "('ادھر', 0.0063840652642626833)\n",
      "('کرم', 0.0063840650885111823)\n",
      "('گل', 0.0063840637522560957)\n",
      "Topic # 8\n",
      "('ہاتھ', 0.017464573864138803)\n",
      "('جنون', 0.016148039359724153)\n",
      "('کام', 0.014785650519624828)\n",
      "('گھر', 0.013058746083672504)\n",
      "('دل', 0.012959888665430203)\n",
      "('تکلف', 0.011189757063899946)\n",
      "('در', 0.011142879759635646)\n",
      "('شوق', 0.010714592097478683)\n",
      "('قیامت', 0.0094918521266664068)\n",
      "('ناز', 0.0094349574495925879)\n",
      "('بھلا', 0.0094349563198053744)\n",
      "('شب', 0.0089835260416242547)\n",
      "('نگاہ', 0.0087468348897242563)\n",
      "('پا', 0.0082325515007794121)\n",
      "('نقاب', 0.0075838106498020133)\n",
      "('فرصت', 0.0075700872307403249)\n",
      "('ہر چند', 0.0075700862120902952)\n",
      "('معلوم', 0.0075700861643793731)\n",
      "('نظّارہ', 0.007554729498508328)\n",
      "('مدّعی', 0.0075547286671288271)\n",
      "Topic # 9\n",
      "('دل', 0.04023760413812881)\n",
      "('بات', 0.0290498680139974)\n",
      "('زبان', 0.014175927378541491)\n",
      "('رب', 0.012766356618331181)\n",
      "('خطّ', 0.012653697642522785)\n",
      "('پا', 0.012015991952424046)\n",
      "('منہ', 0.010939552003186673)\n",
      "('بستر', 0.010026296306401363)\n",
      "('زخم', 0.01000880560962638)\n",
      "('خیال', 0.009749446692715269)\n",
      "('گل', 0.0080297570562640787)\n",
      "('فروغ', 0.0071758487113930359)\n",
      "('قیامت', 0.0071453348915123801)\n",
      "('دامن', 0.0070236495853165659)\n",
      "('عاشق', 0.0059848651815830791)\n",
      "('دن', 0.0057863184084896817)\n",
      "('شوق', 0.0057758655263455564)\n",
      "('خواب', 0.0057758652886920683)\n",
      "('نگاہ', 0.0057741077481102817)\n",
      "('جنون', 0.0057728805526259764)\n",
      "Topic # 10\n",
      "('دل', 0.025234331607359804)\n",
      "('آرزو', 0.012392034532753757)\n",
      "('دشمن', 0.012039097870045435)\n",
      "('غیر', 0.011345663241902455)\n",
      "('بہار', 0.0095990972797924696)\n",
      "('رنگ', 0.0095419402499592257)\n",
      "('چراغ', 0.0093744371057173474)\n",
      "('ساغر', 0.0093023425998495675)\n",
      "('ناز', 0.0091395733149186136)\n",
      "('نالہ', 0.0088223793998582958)\n",
      "('روز', 0.0078408628480522453)\n",
      "('گل', 0.0071706656334045256)\n",
      "('قاتل', 0.0063346677960341808)\n",
      "('گردن', 0.0063346670284926271)\n",
      "('ماہ', 0.0063346670030499062)\n",
      "('پا', 0.0063346670021226558)\n",
      "('رحم', 0.0063346666707661346)\n",
      "('خواب', 0.0062690639134423956)\n",
      "('آدمی', 0.006143254446050757)\n",
      "('عرض', 0.0061359584979101796)\n",
      "Topic # 11\n",
      "('خدا', 0.022604420886035096)\n",
      "('تماشا', 0.02079219734180111)\n",
      "('رشک', 0.017830815671307194)\n",
      "('رنگ', 0.01652430901960247)\n",
      "('مے', 0.01290609783534594)\n",
      "('دن', 0.011586375330216288)\n",
      "('دل', 0.010868587184112738)\n",
      "('آئینہ', 0.0091665953095151163)\n",
      "('گل', 0.0085652010976996745)\n",
      "('جان', 0.0083015641262586624)\n",
      "('چشم', 0.0081814234435345495)\n",
      "('نام', 0.008164283941088344)\n",
      "('جلوہ', 0.0076527299373483756)\n",
      "('صورت', 0.0070092114011424175)\n",
      "('تیغ', 0.0068934563189608075)\n",
      "('دوست', 0.0067509651279544294)\n",
      "('خون', 0.0064947639236183439)\n",
      "('رات', 0.0064510235995774694)\n",
      "('نالہ', 0.006280324677179986)\n",
      "('در', 0.0062029696992730084)\n",
      "Topic # 12\n",
      "('دل', 0.031966974796712844)\n",
      "('قسمت', 0.020302171053087327)\n",
      "('نالہ', 0.012269387791534058)\n",
      "('آج', 0.011268772021738009)\n",
      "('لوگ', 0.010262042894324081)\n",
      "('جگر', 0.0087730887332348947)\n",
      "('تن', 0.0086397365602927916)\n",
      "('عالم', 0.008606833470376973)\n",
      "('مژگان', 0.0085520820147755392)\n",
      "('مجنون', 0.008424301839214058)\n",
      "('رب', 0.0082359153362187732)\n",
      "('عاشق', 0.0078863409302109676)\n",
      "('اہل', 0.0069400076498063361)\n",
      "('منہ', 0.0069400073125718458)\n",
      "('کافر', 0.006940006904005867)\n",
      "('غم', 0.0069400048121882165)\n",
      "('گریبان', 0.0069101864884623119)\n",
      "('در', 0.0067716357986007426)\n",
      "('فتنہ', 0.006682466605414673)\n",
      "('یار', 0.0063330537463705903)\n",
      "Topic # 13\n",
      "('دل', 0.044682794220116506)\n",
      "('یار', 0.017269596485425774)\n",
      "('نگاہ', 0.016811598989820632)\n",
      "('دریا', 0.01601464066523995)\n",
      "('بزم', 0.014610066036932027)\n",
      "('آج', 0.014342786034121551)\n",
      "('غیر', 0.013025534455991895)\n",
      "('شوق', 0.011756663925285285)\n",
      "('زخم', 0.010594936002021497)\n",
      "('دیدار', 0.010455565660356955)\n",
      "('ساقی', 0.01020230476486233)\n",
      "('ناز', 0.009451871587602103)\n",
      "('گل', 0.0094181230095751675)\n",
      "('یاد', 0.0093673534421823672)\n",
      "('مے', 0.0090358113233373581)\n",
      "('نمک', 0.008842119737162665)\n",
      "('خون', 0.00871323289443021)\n",
      "('حسن', 0.0086611199410975576)\n",
      "('حسرت', 0.0082215502421713899)\n",
      "('جلوہ', 0.0078400305210077608)\n",
      "Topic # 14\n",
      "('دل', 0.030190721345750366)\n",
      "('راہ', 0.022890896044669626)\n",
      "('غم', 0.01804021414847249)\n",
      "('نظر', 0.015682256651815833)\n",
      "('گل', 0.015401974283406351)\n",
      "('خیال', 0.01494062261072036)\n",
      "('جگر', 0.010398141979110556)\n",
      "('طاقت', 0.0097110408298777904)\n",
      "('حاصل', 0.0096219132456647066)\n",
      "('دام', 0.0083070577842033998)\n",
      "('دیدہ', 0.008300210856018661)\n",
      "('جی', 0.0082991463717669717)\n",
      "('ذوق', 0.0069503367797766535)\n",
      "('بسکہ', 0.0069320282924249651)\n",
      "('جنون', 0.0069258061110748616)\n",
      "('جوش', 0.0069111012480901363)\n",
      "('مدّعا', 0.0068222625217949509)\n",
      "('عشق', 0.0068210194631880029)\n",
      "('باغ', 0.0068114707484331341)\n",
      "('عالم', 0.006755594461197543)\n",
      "Topic # 15\n",
      "('دل', 0.025652129437047443)\n",
      "('نگاہ', 0.01558303533237777)\n",
      "('آخر', 0.014847281479119991)\n",
      "('جگر', 0.014460563980758932)\n",
      "('مے', 0.011926641669493778)\n",
      "('آب', 0.011336452217444748)\n",
      "('جان', 0.010505940830025564)\n",
      "('زخم', 0.010321444489810459)\n",
      "('بات', 0.0097904790255635005)\n",
      "('سینہ', 0.0093121895624051054)\n",
      "('پردہ', 0.0093060425620432544)\n",
      "('شراب', 0.0083128960434106156)\n",
      "('دیوار', 0.0082811655093723326)\n",
      "('ناز', 0.0081671035440689412)\n",
      "('بزم', 0.0066836998151170576)\n",
      "('دست', 0.0065697110312131655)\n",
      "('روزن', 0.0065190581193779566)\n",
      "('درد', 0.0064334954765363772)\n",
      "('خو', 0.0063915047783639897)\n",
      "('عشق', 0.0055962096973080876)\n"
     ]
    }
   ],
   "source": [
    "for x in range(model.num_topics):\n",
    "    print('Topic #',x+1)\n",
    "    for w in data['topic_words'][x]:print(w)\n",
    "\n"
   ]
  },
  {
   "cell_type": "markdown",
   "metadata": {
    "slideshow": {
     "slide_type": "slide"
    }
   },
   "source": [
    "Alternative Visualization as Interactive Word Clouds\n",
    "using d3.js\n"
   ]
  },
  {
   "cell_type": "code",
   "execution_count": 13,
   "metadata": {
    "collapsed": false,
    "scrolled": false,
    "slideshow": {
     "slide_type": "skip"
    }
   },
   "outputs": [
    {
     "name": "stderr",
     "output_type": "stream",
     "text": [
      "/Users/seanpue/anaconda/envs/python3/lib/python3.5/site-packages/ipykernel/__main__.py:16: FutureWarning: sort(columns=....) is deprecated, use sort_values(by=.....)\n"
     ]
    },
    {
     "data": {
      "text/html": [
       "\n",
       "        <iframe\n",
       "            width=\"1200\"\n",
       "            height=\"800\"\n",
       "            src=\"word-cloud.html\"\n",
       "            frameborder=\"0\"\n",
       "            allowfullscreen\n",
       "        ></iframe>\n",
       "        "
      ],
      "text/plain": [
       "<IPython.lib.display.IFrame at 0x10e261710>"
      ]
     },
     "execution_count": 13,
     "metadata": {},
     "output_type": "execute_result"
    }
   ],
   "source": [
    "\n",
    "clouds_template='''\n",
    "<!DOCTYPE html>\n",
    "<meta charset=\"utf-8\">\n",
    "<head>\n",
    "<script type=\"text/javascript\" src=\"d3/d3.js\"></script>\n",
    "<script type=\"text/javascript\" src=\"d3-cloud/d3.layout.cloud.js\"></script>\n",
    "<script type=\"application/json\" id=\"data\">\n",
    "\n",
    "{{topic_words_json}}\n",
    "\n",
    "</script>\n",
    "\n",
    "\n",
    "</head>\n",
    "\n",
    "<body>\n",
    "<div id=\"models\" style=\"width:50%;float:left\">\n",
    "</div>\n",
    "<div id=\"texts\" style=\"width:50%;float:left\">\n",
    "</div>\n",
    "\n",
    "<script>\n",
    "\n",
    "var fill = d3.scale.category20();\n",
    "\n",
    "var word_data;\n",
    "\n",
    "function make_cloud(cloud,id){\n",
    "    \n",
    "    \n",
    "    words = cloud.map(function(d){\n",
    "        return {text:d[0],size:d[1]*2000}\n",
    "      }).sort(function(a,b){\n",
    "        return a.size < b.size;\n",
    "      });\n",
    "    \n",
    "    word_data = words;\n",
    "      \n",
    "    d3.layout.cloud().size([800, 800])\n",
    "      .words(words)\n",
    "      .padding(1)\n",
    "      .rotate(function() { return 0})//~~(Math.random() * 2) * 90; })\n",
    "      .font(\"Impact\")\n",
    "      .fontSize(function(d) { return d.size; })\n",
    "      .on(\"end\", draw)\n",
    "      .start();\n",
    "    \n",
    "    function show_text(id){\n",
    "    \n",
    "        d3.select(\"div#texts\").selectAll('p').remove();\n",
    "        for (i=0; i<10;i++){//topic_verses[id].length; i++){\n",
    "            d3.select(\"div#texts\").append(\"p\").style(\"font-family\", \"Jameel Noori Nastaleeq\").style(\"font-size\",\"16\").text(topic_verses[id][i]).append(\"br\");\n",
    "        }\n",
    "        \n",
    " \n",
    "    }\n",
    "    \n",
    "    \n",
    "    function draw(words) {\n",
    "      d3.select(\"div#models\").append(\"svg\")\n",
    "          .attr(\"width\", 400)\n",
    "          .attr(\"height\", 400)\n",
    "        .attr(\"id\",id)\n",
    "        .on(\"click\",function(d) {show_text(this.id) } )\n",
    "        .append(\"g\")\n",
    "          .attr(\"transform\", \"translate(400,400)\")\n",
    "        .selectAll(\"text\")\n",
    "          .data(words)\n",
    "        .enter().append(\"text\")\n",
    "          .style(\"font-size\", function(d) { return d.size + \"px\"; })\n",
    "          .style(\"font-family\", \"Jameel Noori Nastaleeq\")\n",
    "          .style(\"fill\", function(d, i) { return 0;})//fill(i); })\n",
    "          .attr(\"text-anchor\", \"middle\")\n",
    "          .attr(\"transform\", function(d) {\n",
    "            return \"translate(\" + [d.x, d.y] + \")rotate(\" + d.rotate + \")\";\n",
    "          })\n",
    "          .text(function(d) { return d.text; });\n",
    "    }\n",
    "    \n",
    "    \n",
    "}\n",
    "\n",
    "\n",
    "var num_topics = {{num_topics}};\n",
    "\n",
    "var json_data = JSON.parse(document.getElementById('data').innerHTML);\n",
    "topic_words = json_data['topic_words'];\n",
    "topic_verses = json_data['topic_verses'];\n",
    "for (i=0;i<num_topics;i++) {\n",
    "  id = \"topic_\"+i;\n",
    "  make_cloud(topic_words[i], id);\n",
    "  \n",
    "}\n",
    "</script>\n",
    "</body>\n",
    "</html>\n",
    "'''\n",
    "\n",
    "from IPython.display import IFrame\n",
    "import os\n",
    "import json\n",
    "num_words = 100\n",
    "    \n",
    "count=0\n",
    "last_fun = None\n",
    "def serve_html(s,w,h):\n",
    "    import os\n",
    "    global count\n",
    "    count+=1\n",
    "    fn= '__tmp'+str(os.getpid())+'_'+str(count)+'.html'\n",
    "    global last_fn\n",
    "    last_fn = fn\n",
    "    with open(fn,'w') as f:\n",
    "        f.write(s)\n",
    "    return IFrame('files/'+fn,w,h)\n",
    "\n",
    "def gen_clouds():\n",
    "    global model\n",
    "    num_words = 100\n",
    "    data = {'topic_words': [model.show_topic(i,topn=num_words) for i in range(model.num_topics)],\n",
    "            'topic_verses': get_verses()}\n",
    "    topic_words_json = json.dumps(data)\n",
    "    s=Template(clouds_template).render(num_topics=model.num_topics,topic_words_json = topic_words_json)\n",
    "\n",
    "    with open('word-cloud.html',\"w\") as f:\n",
    "        f.write(s)\n",
    "#    IFrame('word-cloud.html',width=1200,height=800)\n",
    "    #return(serve_html(s,1200,800))\n",
    "\n",
    "gen_clouds()\n",
    "IFrame('word-cloud.html',width=1200,height=800)\n",
    "#IFrame"
   ]
  },
  {
   "cell_type": "raw",
   "metadata": {
    "slideshow": {
     "slide_type": "fragment"
    }
   },
   "source": [
    "<iframe src=\"./word-cloud.html\" width=1500 height=1000></iframe>"
   ]
  },
  {
   "cell_type": "markdown",
   "metadata": {
    "slideshow": {
     "slide_type": "slide"
    }
   },
   "source": [
    "# Why topic model?"
   ]
  },
  {
   "cell_type": "markdown",
   "metadata": {
    "slideshow": {
     "slide_type": "fragment"
    }
   },
   "source": [
    "## information extraction"
   ]
  },
  {
   "cell_type": "markdown",
   "metadata": {
    "slideshow": {
     "slide_type": "fragment"
    }
   },
   "source": [
    "## show changes over time or text\n"
   ]
  },
  {
   "cell_type": "markdown",
   "metadata": {
    "slideshow": {
     "slide_type": "fragment"
    }
   },
   "source": [
    "## compare one text/corpus with another\n"
   ]
  },
  {
   "cell_type": "markdown",
   "metadata": {
    "slideshow": {
     "slide_type": "fragment"
    }
   },
   "source": [
    "## get access to texts in different ways"
   ]
  },
  {
   "cell_type": "markdown",
   "metadata": {
    "slideshow": {
     "slide_type": "slide"
    }
   },
   "source": [
    "# How does this model of the topic or theme align with Urdu-based rhetorical understandings?"
   ]
  },
  {
   "cell_type": "markdown",
   "metadata": {
    "slideshow": {
     "slide_type": "fragment"
    }
   },
   "source": [
    "## more specifically, how does it compare to the idea of the *maẓmūn* (theme)"
   ]
  },
  {
   "cell_type": "raw",
   "metadata": {
    "slideshow": {
     "slide_type": "slide"
    }
   },
   "source": [
    "<div style=\"font:32pt Jameel Noori Nastaleeq\">\n",
    "راہ مضمون تازہ بند نہیں\n",
    "<br/>\n",
    "تا قیامت کھلا ہے باب سخن\n",
    "</div>\n"
   ]
  },
  {
   "cell_type": "markdown",
   "metadata": {
    "slideshow": {
     "slide_type": "fragment"
    }
   },
   "source": [
    "The road of fresh themes is not closed\n",
    "\n",
    "The gate of poetry is open until Doomsday\n",
    "\n",
    "    -Valī Dakkanī (1667-1707)\n",
    "\n"
   ]
  },
  {
   "cell_type": "markdown",
   "metadata": {
    "slideshow": {
     "slide_type": "slide"
    }
   },
   "source": [
    "*maẓmūn āfrīnī* Creation of themes\n",
    "\n",
    "the beloved is a hunter\n",
    "\n",
    "the beloved lies in wait for the the prey\n",
    "\n",
    "the hunter slaughters the prey\n",
    "\n",
    "the hunter makes into a kabob the prey\n",
    "\n",
    "the beloved is the prey\n",
    "\n",
    "\n"
   ]
  },
  {
   "cell_type": "markdown",
   "metadata": {
    "slideshow": {
     "slide_type": "slide"
    }
   },
   "source": [
    "Perhaps as an Resource Data Framework (RDF) triple?\n",
    "\n",
    "subject -> predicate -> object"
   ]
  },
  {
   "cell_type": "code",
   "execution_count": 14,
   "metadata": {
    "collapsed": false,
    "slideshow": {
     "slide_type": "skip"
    }
   },
   "outputs": [],
   "source": [
    "import pydot\n",
    "\n",
    "dot_object = pydot.Dot(graph_name=\"main_graph\",rankdir=\"LR\", labelloc='b', \n",
    "                       labeljust='r', ranksep=1)\n",
    "\n",
    "node1 = pydot.Node(name='node1', texlbl=r'topic1', label='Subject', shape='square')\n",
    "dot_object.add_node(node1)\n",
    "node2 = pydot.Node(name='node2', texlbl=r'topic2', label='Object', shape='square')\n",
    "dot_object.add_node(node2)\n",
    "dot_object.add_edge(pydot.Edge(node1, node2,label=\"Predicate\"))\n",
    "#dot_object.write('graph.dotfile', format='raw', prog='dot')\n",
    "dot_object.write_png('basic_triple.png', prog='dot')\n",
    "from IPython.display import Image\n",
    "#Image('basic_triple.png')"
   ]
  },
  {
   "cell_type": "markdown",
   "metadata": {
    "slideshow": {
     "slide_type": "fragment"
    }
   },
   "source": [
    "![Basic Triple](basic_triple.png)\n"
   ]
  },
  {
   "cell_type": "code",
   "execution_count": 15,
   "metadata": {
    "collapsed": false,
    "slideshow": {
     "slide_type": "skip"
    }
   },
   "outputs": [],
   "source": [
    "#import pydot\n",
    "\n",
    "dot_object = pydot.Dot(graph_name=\"main_graph\",rankdir=\"LR\", labelloc='b', \n",
    "                       labeljust='r', ranksep=1)\n",
    "\n",
    "node1 = pydot.Node(name='node1', texlbl=r'topic1', label='Beloved', shape='square')\n",
    "dot_object.add_node(node1)\n",
    "node2 = pydot.Node(name='node2', texlbl=r'topic2', label='Lover', shape='square')\n",
    "dot_object.add_node(node2)\n",
    "node3 = pydot.Node(name='node3', texlbl=r'topic3', label='Cruelty', shape='square')\n",
    "dot_object.add_node(node3)\n",
    "dot_object.add_edge(pydot.Edge(node1, node2,label=\"hunts\"))\n",
    "dot_object.add_edge(pydot.Edge(node1, node3,label=\"exhibits\"))\n",
    "dot_object.add_edge(pydot.Edge(node2, node1,label=\"loves\"))\n",
    "dot_object.add_edge(pydot.Edge(node2, node3,label=\"suffers\"))\n",
    "#dot_object.write('graph.dotfile', format='raw', prog='dot')\n",
    "dot_object.write_png('example_triple1.png', prog='dot')\n",
    "from IPython.display import Image\n",
    "#Image('example_triple1.png')"
   ]
  },
  {
   "cell_type": "markdown",
   "metadata": {
    "slideshow": {
     "slide_type": "fragment"
    }
   },
   "source": [
    "![Example Triple](example_triple1.png)"
   ]
  },
  {
   "cell_type": "markdown",
   "metadata": {
    "slideshow": {
     "slide_type": "slide"
    }
   },
   "source": [
    "Thanks!\n",
    "\n",
    "Sean Pue\n",
    "\n",
    "pue@msu.edu\n",
    "\n",
    "@seanpue"
   ]
  },
  {
   "cell_type": "code",
   "execution_count": null,
   "metadata": {
    "collapsed": true,
    "slideshow": {
     "slide_type": "skip"
    }
   },
   "outputs": [],
   "source": []
  }
 ],
 "metadata": {
  "celltoolbar": "Slideshow",
  "kernelspec": {
   "display_name": "Python 3",
   "language": "python",
   "name": "python3"
  },
  "language_info": {
   "codemirror_mode": {
    "name": "ipython",
    "version": 3
   },
   "file_extension": ".py",
   "mimetype": "text/x-python",
   "name": "python",
   "nbconvert_exporter": "python",
   "pygments_lexer": "ipython3",
   "version": "3.5.1"
  },
  "name": "_merged"
 },
 "nbformat": 4,
 "nbformat_minor": 0
}
