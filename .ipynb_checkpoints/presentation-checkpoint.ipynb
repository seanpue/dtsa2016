{
 "cells": [
  {
   "cell_type": "markdown",
   "metadata": {
    "slideshow": {
     "slide_type": "slide"
    }
   },
   "source": [
    "# Textual Encoding of Hindi-Urdu Poetry for Data-Rich Literary Analysis\n",
    "\n",
    "A. Sean Pue, Michigan State University\n",
    "\n",
    "pue@msu.edu\n",
    "\n",
    "@seanpue\n",
    "\n",
    "http://seanpue.com\n",
    "\n",
    "Github: seanpue\n",
    "\n",
    "Talk Repository: http://github.com/seanpue/dtsa2016\n"
   ]
  },
  {
   "cell_type": "raw",
   "metadata": {
    "slideshow": {
     "slide_type": "skip"
    }
   },
   "source": [
    "<style type=\"text/css\">\n",
    ".input_prompt, .input_area, .output_prompt {\n",
    "    display:none !important;\n",
    "}\n",
    ".urdu{font: 26pt Jameel Noori Nastaleeq};\n",
    "\n",
    "</style>\n",
    "\n",
    "\n"
   ]
  },
  {
   "cell_type": "code",
   "execution_count": 23,
   "metadata": {
    "collapsed": true,
    "slideshow": {
     "slide_type": "skip"
    }
   },
   "outputs": [],
   "source": [
    "from IPython.display import IFrame"
   ]
  },
  {
   "cell_type": "markdown",
   "metadata": {
    "slideshow": {
     "slide_type": "slide"
    }
   },
   "source": [
    "# Hindi/Urdu\n",
    "\n",
    "## हिन्दी\n",
    "\n",
    "* left-to-right devanagari script preferred\n",
    "* more tatsam (from Sanskrit) words\n",
    "\n",
    "## اردو\n",
    "\n",
    "* right-to-left nastaliq script preferred\n",
    "* more Perso-Arabic words\n",
    "\n",
    "## \"different *literary styles* based on the *same* linguistic subdialect\" (Masica 1991)"
   ]
  },
  {
   "cell_type": "markdown",
   "metadata": {
    "slideshow": {
     "slide_type": "slide"
    }
   },
   "source": [
    "# Research Question #1\n",
    "\n",
    "## How to best analyze and encode texts in both scripts?"
   ]
  },
  {
   "cell_type": "markdown",
   "metadata": {
    "slideshow": {
     "slide_type": "slide"
    }
   },
   "source": [
    "# Challenges\n",
    "\n"
   ]
  },
  {
   "cell_type": "markdown",
   "metadata": {
    "slideshow": {
     "slide_type": "fragment"
    }
   },
   "source": [
    "## Disambiguating between words\n",
    "\n",
    "###  आम aam as عام or آم\n",
    "\n",
    "### کیا as किया kiyaa or क्या kyaa\n"
   ]
  },
  {
   "cell_type": "markdown",
   "metadata": {
    "slideshow": {
     "slide_type": "slide"
    }
   },
   "source": [
    "# Challenges\n",
    "\n",
    "## Certain types of analysis require additional information:\n",
    "\n",
    "* morphology\n",
    "* grammatical markers, such as the iẓāfat (kitāb-e dil)\n",
    "* compound-word boundaries"
   ]
  },
  {
   "cell_type": "markdown",
   "metadata": {
    "slideshow": {
     "slide_type": "slide"
    }
   },
   "source": [
    "# Background Project\n",
    "\n",
    "## Desertful of Roses by Frances W. Pritchett\n",
    "\n",
    "### http://www.columbia.edu/itc/mealac/pritchett/00ghalib/"
   ]
  },
  {
   "cell_type": "raw",
   "metadata": {
    "slideshow": {
     "slide_type": "slide"
    }
   },
   "source": [
    "<iframe src=http://www.columbia.edu/itc/mealac/pritchett/00ghalib width=1500 height=1000></iframe>"
   ]
  },
  {
   "cell_type": "markdown",
   "metadata": {
    "collapsed": true,
    "slideshow": {
     "slide_type": "slide"
    }
   },
   "source": [
    "# Hindi/Urdu Text and IPA from Transliteration\n",
    "\n",
    "* roman *tokens* parsed into devanagari/nastaliq versions\n",
    "\n",
    "* requires looking before and after for particular combinations\n",
    "\n",
    "* involves both tokens and classes of tokens, eg. consonant, vowel, etc.\n",
    "\n",
    "* quite but not entirely accurate\n",
    "\n",
    "* now using a lexer/parser"
   ]
  },
  {
   "cell_type": "raw",
   "metadata": {
    "slideshow": {
     "slide_type": "slide"
    }
   },
   "source": [
    "<!-- https://raw.githubusercontent.com/seanpue/graphparser/master/settings/urdu.yaml -->\n",
    "<iframe src=pres_files/urdu.html width=1800 height=1000></iframe>"
   ]
  },
  {
   "cell_type": "raw",
   "metadata": {
    "slideshow": {
     "slide_type": "slide"
    }
   },
   "source": [
    "<!-- https://raw.githubusercontent.com/seanpue/graphparser/master/settings/devanagari.yaml -->\n",
    "<iframe src=pres_files/devanagari.html width=1800 height=1000></iframe>"
   ]
  },
  {
   "cell_type": "markdown",
   "metadata": {
    "slideshow": {
     "slide_type": "slide"
    }
   },
   "source": [
    "# Workflow\n",
    "\n",
    "* Have texts transcribed into Unicode\n",
    "* Convert those files into spreadsheet *tables*\n",
    "  * easy to manipulate by an editor or programmatically\n",
    "  * very clean\n",
    "* Attach transliteration, lemaa information to the words\n",
    "* Analyze as a DataFrame\n",
    "* Reconstitute as TEI if necessary"
   ]
  },
  {
   "cell_type": "code",
   "execution_count": 24,
   "metadata": {
    "collapsed": false,
    "slideshow": {
     "slide_type": "slide"
    }
   },
   "outputs": [],
   "source": [
    "import sys\n",
    "sys.path.append('./graphparser/')\n",
    "import graphparser as gp\n",
    "import pandas as pd\n",
    "import networkx as nx\n",
    "import logging,sys,codecs,re,csv\n"
   ]
  },
  {
   "cell_type": "markdown",
   "metadata": {
    "slideshow": {
     "slide_type": "slide"
    }
   },
   "source": [
    "![XKCD Python Cartoon](pres_files/python.png)"
   ]
  },
  {
   "cell_type": "markdown",
   "metadata": {
    "slideshow": {
     "slide_type": "slide"
    }
   },
   "source": [
    "# Data File Structure"
   ]
  },
  {
   "cell_type": "code",
   "execution_count": 25,
   "metadata": {
    "collapsed": false,
    "slideshow": {
     "slide_type": "skip"
    }
   },
   "outputs": [],
   "source": [
    "pd.set_option(\"display.max_rows\",25)"
   ]
  },
  {
   "cell_type": "code",
   "execution_count": 26,
   "metadata": {
    "collapsed": false,
    "slideshow": {
     "slide_type": "fragment"
    }
   },
   "outputs": [
    {
     "data": {
      "text/html": [
       "<div>\n",
       "<table border=\"1\" class=\"dataframe\">\n",
       "  <thead>\n",
       "    <tr style=\"text-align: right;\">\n",
       "      <th></th>\n",
       "      <th>type</th>\n",
       "      <th>transliteration</th>\n",
       "      <th>urdu</th>\n",
       "      <th>notes</th>\n",
       "    </tr>\n",
       "  </thead>\n",
       "  <tbody>\n",
       "    <tr>\n",
       "      <th>0</th>\n",
       "      <td>TITLE</td>\n",
       "      <td>NaN</td>\n",
       "      <td>چل چلاؤ</td>\n",
       "      <td>NaN</td>\n",
       "    </tr>\n",
       "    <tr>\n",
       "      <th>1</th>\n",
       "      <td>LINE</td>\n",
       "      <td>NaN</td>\n",
       "      <td>بس دیکھا اور پھر بھول گئے،</td>\n",
       "      <td>NaN</td>\n",
       "    </tr>\n",
       "    <tr>\n",
       "      <th>2</th>\n",
       "      <td>TOKEN</td>\n",
       "      <td>bas</td>\n",
       "      <td>بس</td>\n",
       "      <td>NaN</td>\n",
       "    </tr>\n",
       "    <tr>\n",
       "      <th>3</th>\n",
       "      <td>TOKEN</td>\n",
       "      <td>dekhaa</td>\n",
       "      <td>دیکھا</td>\n",
       "      <td>NaN</td>\n",
       "    </tr>\n",
       "    <tr>\n",
       "      <th>4</th>\n",
       "      <td>TOKEN</td>\n",
       "      <td>aur</td>\n",
       "      <td>اور</td>\n",
       "      <td>NaN</td>\n",
       "    </tr>\n",
       "    <tr>\n",
       "      <th>5</th>\n",
       "      <td>TOKEN</td>\n",
       "      <td>phir</td>\n",
       "      <td>پھر</td>\n",
       "      <td>NaN</td>\n",
       "    </tr>\n",
       "    <tr>\n",
       "      <th>6</th>\n",
       "      <td>TOKEN</td>\n",
       "      <td>bhuul</td>\n",
       "      <td>بھول</td>\n",
       "      <td>NaN</td>\n",
       "    </tr>\n",
       "    <tr>\n",
       "      <th>7</th>\n",
       "      <td>TOKEN</td>\n",
       "      <td>ga))e</td>\n",
       "      <td>گئے</td>\n",
       "      <td>NaN</td>\n",
       "    </tr>\n",
       "    <tr>\n",
       "      <th>8</th>\n",
       "      <td>TOKEN</td>\n",
       "      <td>,</td>\n",
       "      <td>،</td>\n",
       "      <td>NaN</td>\n",
       "    </tr>\n",
       "    <tr>\n",
       "      <th>9</th>\n",
       "      <td>LINE</td>\n",
       "      <td>NaN</td>\n",
       "      <td>جب حُسن نگاہوں میں آیا</td>\n",
       "      <td>NaN</td>\n",
       "    </tr>\n",
       "    <tr>\n",
       "      <th>10</th>\n",
       "      <td>TOKEN</td>\n",
       "      <td>jab</td>\n",
       "      <td>جب</td>\n",
       "      <td>NaN</td>\n",
       "    </tr>\n",
       "    <tr>\n",
       "      <th>11</th>\n",
       "      <td>TOKEN</td>\n",
       "      <td>;husn</td>\n",
       "      <td>حُسن</td>\n",
       "      <td>NaN</td>\n",
       "    </tr>\n",
       "    <tr>\n",
       "      <th>...</th>\n",
       "      <td>...</td>\n",
       "      <td>...</td>\n",
       "      <td>...</td>\n",
       "      <td>...</td>\n",
       "    </tr>\n",
       "    <tr>\n",
       "      <th>21963</th>\n",
       "      <td>TOKEN</td>\n",
       "      <td>ik</td>\n",
       "      <td>اک</td>\n",
       "      <td>NaN</td>\n",
       "    </tr>\n",
       "    <tr>\n",
       "      <th>21964</th>\n",
       "      <td>TOKEN</td>\n",
       "      <td>ke</td>\n",
       "      <td>کے</td>\n",
       "      <td>NaN</td>\n",
       "    </tr>\n",
       "    <tr>\n",
       "      <th>21965</th>\n",
       "      <td>TOKEN</td>\n",
       "      <td>pahluu</td>\n",
       "      <td>پہلو</td>\n",
       "      <td>NaN</td>\n",
       "    </tr>\n",
       "    <tr>\n",
       "      <th>21966</th>\n",
       "      <td>TOKEN</td>\n",
       "      <td>me;n</td>\n",
       "      <td>میں</td>\n",
       "      <td>NaN</td>\n",
       "    </tr>\n",
       "    <tr>\n",
       "      <th>21967</th>\n",
       "      <td>TOKEN</td>\n",
       "      <td>;xaak</td>\n",
       "      <td>خاک</td>\n",
       "      <td>NaN</td>\n",
       "    </tr>\n",
       "    <tr>\n",
       "      <th>21968</th>\n",
       "      <td>TOKEN</td>\n",
       "      <td>aaluudah</td>\n",
       "      <td>آلودہ</td>\n",
       "      <td>NaN</td>\n",
       "    </tr>\n",
       "    <tr>\n",
       "      <th>21969</th>\n",
       "      <td>TOKEN</td>\n",
       "      <td>aagahii</td>\n",
       "      <td>آگہی</td>\n",
       "      <td>NaN</td>\n",
       "    </tr>\n",
       "    <tr>\n",
       "      <th>21970</th>\n",
       "      <td>TOKEN</td>\n",
       "      <td>hai</td>\n",
       "      <td>ہے</td>\n",
       "      <td>NaN</td>\n",
       "    </tr>\n",
       "    <tr>\n",
       "      <th>21971</th>\n",
       "      <td>TOKEN</td>\n",
       "      <td>--</td>\n",
       "      <td>۔</td>\n",
       "      <td>NaN</td>\n",
       "    </tr>\n",
       "    <tr>\n",
       "      <th>21972</th>\n",
       "      <td>LINE</td>\n",
       "      <td>NaN</td>\n",
       "      <td>۔۔۔۔۔۔۔۔</td>\n",
       "      <td>NaN</td>\n",
       "    </tr>\n",
       "    <tr>\n",
       "      <th>21973</th>\n",
       "      <td>TOKEN</td>\n",
       "      <td>----------------</td>\n",
       "      <td>۔۔۔۔۔۔۔۔</td>\n",
       "      <td>NaN</td>\n",
       "    </tr>\n",
       "    <tr>\n",
       "      <th>21974</th>\n",
       "      <td>LINE</td>\n",
       "      <td>NaN</td>\n",
       "      <td>NaN</td>\n",
       "      <td>NaN</td>\n",
       "    </tr>\n",
       "  </tbody>\n",
       "</table>\n",
       "<p>21975 rows × 4 columns</p>\n",
       "</div>"
      ],
      "text/plain": [
       "        type    transliteration                         urdu notes\n",
       "0      TITLE                NaN                    چل چلاؤ    NaN\n",
       "1       LINE                NaN  بس دیکھا اور پھر بھول گئے،    NaN\n",
       "2      TOKEN                bas                           بس   NaN\n",
       "3      TOKEN             dekhaa                        دیکھا   NaN\n",
       "4      TOKEN                aur                          اور   NaN\n",
       "5      TOKEN               phir                          پھر   NaN\n",
       "6      TOKEN              bhuul                         بھول   NaN\n",
       "7      TOKEN              ga))e                          گئے   NaN\n",
       "8      TOKEN                  ,                            ،   NaN\n",
       "9       LINE                NaN     جب حُسن نگاہوں میں آیا    NaN\n",
       "10     TOKEN                jab                           جب   NaN\n",
       "11     TOKEN              ;husn                         حُسن   NaN\n",
       "...      ...                ...                          ...   ...\n",
       "21963  TOKEN                 ik                           اک   NaN\n",
       "21964  TOKEN                 ke                           کے   NaN\n",
       "21965  TOKEN             pahluu                         پہلو   NaN\n",
       "21966  TOKEN               me;n                          میں   NaN\n",
       "21967  TOKEN              ;xaak                          خاک   NaN\n",
       "21968  TOKEN           aaluudah                       آلودہ   NaN\n",
       "21969  TOKEN            aagahii                        آگہی   NaN\n",
       "21970  TOKEN                hai                           ہے   NaN\n",
       "21971  TOKEN                 --                            ۔   NaN\n",
       "21972   LINE                NaN                     ۔۔۔۔۔۔۔۔   NaN\n",
       "21973  TOKEN   ----------------                     ۔۔۔۔۔۔۔۔   NaN\n",
       "21974   LINE                NaN                          NaN   NaN\n",
       "\n",
       "[21975 rows x 4 columns]"
      ]
     },
     "execution_count": 26,
     "metadata": {},
     "output_type": "execute_result"
    }
   ],
   "source": [
    "pd.DataFrame.from_csv('data/miraji_nazmen.csv', encoding='utf-16')\n"
   ]
  },
  {
   "cell_type": "markdown",
   "metadata": {
    "slideshow": {
     "slide_type": "slide"
    }
   },
   "source": [
    "#Why digital analysis?\n",
    "\n",
    "## Motivated by the strong and recurrent discourse about ‘sound’ in modern Hindi/Urdu poetry\n",
    "\n",
    "## Hindi/Urdu as a language involves:\n",
    "* Perso-Arabic vocabulary and forms (ghazal, masnavi, etc.)\n",
    "* Indic (“Hindi”) vocabulary and forms\n",
    "* Relation of meter and forms to literary community\n",
    "\n",
    "## Possibilities of providing experiential or graphical “proof” to prose assertions\n",
    "\n"
   ]
  },
  {
   "cell_type": "markdown",
   "metadata": {
    "slideshow": {
     "slide_type": "slide"
    }
   },
   "source": [
    "# Urdu Meters\n",
    "\n",
    "* The meters are quantitative (not qualitative), based on length rather than stress\n",
    "* Metrical units involve “short” and “long” vowels\n",
    "* Metrical units are not necessarily syllables\n",
    "  * E.g. \tRaaj   \t= - (raa j)\t [where = is long, - is short]\n",
    "\n",
    "* Flexibilities\n",
    "  * Long vowels can be shortened at the end of words\n",
    "  * Metrical units can span words\n",
    "  * There are particular word-based anomalies/flexibilities\n",
    "\n",
    "\n",
    "\n",
    "\n"
   ]
  },
  {
   "cell_type": "markdown",
   "metadata": {
    "slideshow": {
     "slide_type": "slide"
    }
   },
   "source": [
    "# Urdu Prosody\n",
    "\n",
    "Descriptions in Urdu from Persian (Farsi) and earlier Arabic prosody, as following a particular pattern (dates back to al-Khalil of Basra 718 CE)\n",
    "* Describe metrical feet using text where certain vowels are “moving” or “silent,” e. g.\n",
    "  * fāʿilātun = - = =\tفاعلاتن\n",
    "  * fāʿilun = - = \tفاعلن\n",
    "  * faʿūlan - = =\tفعولن\n",
    "* Meters named using primary metrical “wheels” and different sorts of modifications to them\n",
    "* Meter is referred to as a baḥr (“ocean”)\n",
    "\n"
   ]
  },
  {
   "cell_type": "markdown",
   "metadata": {
    "slideshow": {
     "slide_type": "slide"
    }
   },
   "source": [
    "![Naqsh Faryaadii](pres_files/naqsh_faryaadii.png)\n",
    "* Meter: = - = = / = - = = / = - = = / = - =\n",
    "    \n",
    "نقش فریادی ہے کس کی سوخی تحریر کا\n",
    "\n",
    "کاغذی ہے پیرہن ہر پیکر تصویر کا\n",
    "\n",
    "\n",
    "naqsh faryaadii hai kis kii sho;xii-e ta;hriir kaa\n",
    "\n",
    "kaa;gazii hai pairahan har paikar-e ta.sviir kaa\n",
    "\n",
    "\n",
    "नक़्श फ़रयादी है किस की शोख़ी-ए तहरीर का \n",
    "\n",
    "काग़ज़ी है पैरहन हर पैकर-ए तस्वीर का\n"
   ]
  },
  {
   "cell_type": "markdown",
   "metadata": {
    "slideshow": {
     "slide_type": "slide"
    }
   },
   "source": [
    "# Computational Problem\n",
    "\n",
    "How to computationally scan Hindi/Urdu poetry in a scalable and effective way?"
   ]
  },
  {
   "cell_type": "raw",
   "metadata": {
    "slideshow": {
     "slide_type": "skip"
    }
   },
   "source": [
    "<style type=\"text/css\">\n",
    ".input_prompt, .input_area, .output_prompt {\n",
    "    display:none !important;\n",
    "}\n",
    ".urdu{font: 26pt Jameel Noori Nastaleeq};\n",
    "\n",
    "</style>\n"
   ]
  },
  {
   "cell_type": "markdown",
   "metadata": {
    "slideshow": {
     "slide_type": "slide"
    }
   },
   "source": [
    "What is topic modeling?"
   ]
  },
  {
   "cell_type": "code",
   "execution_count": 27,
   "metadata": {
    "collapsed": false,
    "slideshow": {
     "slide_type": "skip"
    }
   },
   "outputs": [
    {
     "data": {
      "text/plain": [
       "True"
      ]
     },
     "execution_count": 27,
     "metadata": {},
     "output_type": "execute_result"
    }
   ],
   "source": [
    "import pydot\n",
    "\n",
    "dot_object = pydot.Dot(graph_name=\"main_graph\",rankdir=\"LR\", labelloc='b', \n",
    "                       labeljust='r', ranksep=1)\n",
    "\n",
    "topic1 = pydot.Node(name='topic1', texlbl=r'topic1', label='Topic #1', shape='square')\n",
    "dot_object.add_node(topic1)\n",
    "topic2 = pydot.Node(name='topic2', texlbl=r'topic2', label='Topic #2', shape='square')\n",
    "dot_object.add_node(topic2)\n",
    "#topic3 = pydot.Node(name='topic3', texlbl=r'topic3', label='عاشق', shape='square', fontname=\"Jameel Noori Nastaleeq\")\n",
    "#dot_object.add_node(topic3)\n",
    "\n",
    "plate_document = pydot.Cluster(graph_name='plate_document', label='Document', fontsize=24)\n",
    "\n",
    "word1= pydot.Node(name='word', texlbl=r'\\word', label='Word')\n",
    "plate_document.add_node(word1)\n",
    "word2= pydot.Node(name='word2', texlbl=r'\\word', label='Word')\n",
    "plate_document.add_node(word2)\n",
    "word3= pydot.Node(name='word3', texlbl=r'\\word', label='Word')\n",
    "plate_document.add_node(word3)\n",
    "\n",
    "\n",
    "# add plate k to graph\n",
    "dot_object.add_subgraph(plate_document)\n",
    "\n",
    "\n",
    "dot_object.add_edge(pydot.Edge(topic1, word1))\n",
    "dot_object.add_edge(pydot.Edge(topic1, word2))\n",
    "dot_object.add_edge(pydot.Edge(topic2, word3))\n",
    "#dot_object.add_edge(pydot.Edge(node_theta, node_z))\n",
    "#dot_object.add_edge(pydot.Edge(node_z, node_w))\n",
    "#dot_object.add_edge(pydot.Edge(node_w, node_beta, dir='back'))\n",
    "#dot_object.add_edge(pydot.Edge(node_beta, node_eta, dir='back'))\n",
    "dot_object.write('graph.dotfile', format='raw', prog='dot')"
   ]
  },
  {
   "cell_type": "code",
   "execution_count": 28,
   "metadata": {
    "collapsed": false,
    "slideshow": {
     "slide_type": "skip"
    }
   },
   "outputs": [],
   "source": [
    "dot_object.write_png('topic_model.png', prog='dot')\n",
    "from IPython.display import Image\n",
    "#Image('topic_model.png')"
   ]
  },
  {
   "cell_type": "markdown",
   "metadata": {
    "slideshow": {
     "slide_type": "fragment"
    }
   },
   "source": [
    "![Topic Model Diagram](topic_model.png)"
   ]
  },
  {
   "cell_type": "code",
   "execution_count": 36,
   "metadata": {
    "collapsed": false,
    "slideshow": {
     "slide_type": "skip"
    }
   },
   "outputs": [],
   "source": [
    "from gensim import corpora, models, similarities\n",
    "import collections,operator,sys,numpy,pandas\n",
    "from jinja2 import Template\n",
    "\n",
    "\n",
    "sys.path.append('graphparser/')\n",
    "from graphparser import GraphParser\n",
    "urdup = GraphParser('graphparser/settings/urdu.yaml')\n",
    "\n",
    "with open('ghalib-concordance/output/lemma_documents.txt','r') as f:\n",
    "    text = f.read()\n",
    "\n",
    "verses = text.split('\\n')\n",
    "verses_orig=[urdup.parse(v).output for v in verses]\n",
    "assert(len(verses)==1461)\n",
    "tokens=[]\n",
    "\n",
    "for v in verses:\n",
    "    tokens+= v.split(' ')\n",
    "\n",
    "    stoplist=['honaa','','karnaa',\n",
    "'kaa','se','me;n','nah','vuh','kih','ko','jaanaa','kii','nahii;n','mai;n','kyaa','meraa','jo','ham',\n",
    "'bhii','to','kahnaa','yih','aanaa','ne','teraa','dekhnaa','aur','par','denaa',';gaalib','ko))ii','kyuu;n',\n",
    "'hii','pah','bah','gar','rahnaa','tuu','phir','apnaa','har','ay','ik','kis','tum','kuchh',\n",
    "'agar','ek','asad','ab','chaahiye','puuchhnaa','yuu;n','hamaaraa',\n",
    "'mauj','yaa;n','nikalnaa','yaa','milnaa','liye','yak',\"jaan'naa\",'achchhaa','haa))e','vaa;n','tak','paanaa',\n",
    "'magar','taa','pa;rnaa','khe;nchnaa','kabhii','lekin','u;thnaa','varnah','chalnaa',\n",
    "'phir','lenaa','denaa','kahaa;n','sar','jab',\"go\",\"ban'naa\",\"ya((nii\",\"vuhii\",\"aap\",\"saknaa\",\"kisii\",\"yihii\"\n",
    "'jitnaa','saa','pahle','lagnaa','vale','mat','sahii','kam',\n",
    "'bahut','aisaa','qadar','aage','abhii','az','ba;gair','kyuu;nkar','buraa',\n",
    "'hanuuz','baar']\n",
    "\n",
    "verbs=[w for w in set(tokens) if w.endswith('naa') and w!='tamanna']\n",
    "\n",
    "stoplist+=verbs"
   ]
  },
  {
   "cell_type": "code",
   "execution_count": 30,
   "metadata": {
    "collapsed": false,
    "slideshow": {
     "slide_type": "skip"
    }
   },
   "outputs": [],
   "source": [
    "texts = [[word for word in verse.lower().split() if word not in stoplist] for verse in verses]\n",
    "\n",
    "all_tokens = sum(texts, [])\n",
    "tokens_once = set(word for word in set(all_tokens) if all_tokens.count(word) == 1)\n",
    "\n",
    "texts = [[word for word in text if word not in tokens_once] for text in texts]\n",
    "texts = [[urdup.parse(word).output for word in text] for text in texts]\n",
    "\n",
    "dictionary = corpora.Dictionary(texts)\n",
    "\n",
    "corpus = [dictionary.doc2bow(text) for text in texts]"
   ]
  },
  {
   "cell_type": "code",
   "execution_count": 31,
   "metadata": {
    "collapsed": false,
    "slideshow": {
     "slide_type": "skip"
    }
   },
   "outputs": [],
   "source": [
    "def gen_model(num_topics=15, passes=10,iterations=250,chunksize=10,workers=5):\n",
    "    model = models.LdaMulticore(corpus, id2word=dictionary, num_topics=num_topics, eval_every=10, passes=passes,iterations=iterations,workers=workers)\n",
    "    return model\n",
    "model=gen_model()\n"
   ]
  },
  {
   "cell_type": "markdown",
   "metadata": {
    "slideshow": {
     "slide_type": "slide"
    }
   },
   "source": [
    "What is a topic?"
   ]
  },
  {
   "cell_type": "markdown",
   "metadata": {
    "slideshow": {
     "slide_type": "fragment"
    }
   },
   "source": [
    "usually a probability distribution"
   ]
  },
  {
   "cell_type": "markdown",
   "metadata": {
    "slideshow": {
     "slide_type": "slide"
    }
   },
   "source": [
    "Example: 15 topics from Ghalib's Divan"
   ]
  },
  {
   "cell_type": "code",
   "execution_count": 37,
   "metadata": {
    "collapsed": false,
    "slideshow": {
     "slide_type": "skip"
    }
   },
   "outputs": [
    {
     "name": "stderr",
     "output_type": "stream",
     "text": [
      "/Users/seanpue/anaconda/envs/python3/lib/python3.5/site-packages/ipykernel/__main__.py:16: FutureWarning: sort(columns=....) is deprecated, use sort_values(by=.....)\n"
     ]
    }
   ],
   "source": [
    "\n",
    "\n",
    "def get_verses():\n",
    "    global model\n",
    "    global corpus\n",
    "    text_topics = [ model [x] for x in corpus ]\n",
    "    da = numpy.zeros((len(text_topics),model.num_topics))\n",
    "    for i, v in enumerate(text_topics):\n",
    "        for topic, value in v:\n",
    "            da[i,topic] = value\n",
    "    df = pandas.DataFrame(da) # probably a way to compress the above\n",
    "    verses_out = {}\n",
    "\n",
    "    for i in range (model.num_topics):\n",
    "        verses = []\n",
    "        for x in df.sort(columns=[i],ascending=False)[i].index:\n",
    "            v = df[i][x]\n",
    "            if (v > 0):\n",
    "                verses.append(verses_orig[x])\n",
    "\n",
    "        verses_out['topic_'+str(i)]=verses\n",
    "    return verses_out\n",
    "\n",
    "\n",
    "num_words = 20\n",
    "data = {'topic_words': [model.show_topic(i,topn=num_words) for i in range(model.num_topics)],\n",
    "        'topic_verses': get_verses()}\n"
   ]
  },
  {
   "cell_type": "code",
   "execution_count": 39,
   "metadata": {
    "collapsed": false,
    "slideshow": {
     "slide_type": "fragment"
    }
   },
   "outputs": [
    {
     "name": "stdout",
     "output_type": "stream",
     "text": [
      "Topic # 1\n",
      "('گل', 0.033230417475917665)\n",
      "('خیال', 0.025172574235056314)\n",
      "('چمن', 0.012946084850323669)\n",
      "('نالہ', 0.011812089635474417)\n",
      "('دل', 0.011303796162859382)\n",
      "('آرزو', 0.0092170874337223502)\n",
      "('جلوہ', 0.0086683497816641523)\n",
      "('حسن', 0.0085576796562972183)\n",
      "('خراب', 0.0079372290470767996)\n",
      "('ذرّہ', 0.0079257008579150714)\n",
      "('انتظار', 0.007691638203810673)\n",
      "('وعدہ', 0.0076498750836606032)\n",
      "('انداز', 0.0075865521012813643)\n",
      "('سو', 0.0073741848026263471)\n",
      "('ناز', 0.0067537033232068985)\n",
      "('عدو', 0.0066476975808557031)\n",
      "('راہ', 0.0063706715658744311)\n",
      "('بلبل', 0.0063591408375331072)\n",
      "('خندہ', 0.0063545289340748018)\n",
      "('کام', 0.0063393212887098375)\n",
      "Topic # 2\n",
      "('پانو', 0.024993930279696961)\n",
      "('پا', 0.022884448560362015)\n",
      "('گل', 0.017670484988770222)\n",
      "('گرم', 0.016247286896457356)\n",
      "('وقت', 0.015367665249477616)\n",
      "('ہاتھ', 0.014188934774001946)\n",
      "('دن', 0.013500462207549462)\n",
      "('جنون', 0.011781271350143497)\n",
      "('بہار', 0.010352078004795562)\n",
      "('خوش', 0.0087123802730731982)\n",
      "('دامن', 0.0081489617417428353)\n",
      "('وداع', 0.0079433221844092163)\n",
      "('آغوش', 0.0078455177821844975)\n",
      "('سو', 0.0078412802520705371)\n",
      "('آج', 0.0075257219736455296)\n",
      "('شب', 0.0072133029164560061)\n",
      "('صحبت', 0.007159630852671392)\n",
      "('گل شن', 0.0071339137547841228)\n",
      "('خامہ', 0.0071053359286259608)\n",
      "('باقی', 0.0070439549697753744)\n",
      "Topic # 3\n",
      "('دل', 0.042867044364322496)\n",
      "('حسرت', 0.023239101618936314)\n",
      "('گھر', 0.018791773478931635)\n",
      "('تماشا', 0.015483865382165934)\n",
      "('غم', 0.014178925361717304)\n",
      "('نگاہ', 0.01384262024589541)\n",
      "('آخر', 0.010496015007735919)\n",
      "('چشم', 0.009057082568283182)\n",
      "('جمع', 0.0088666991377746619)\n",
      "('در', 0.0075788268670534025)\n",
      "('آئینہ', 0.0075116475400721734)\n",
      "('شوق', 0.0074889732965266621)\n",
      "('جہان', 0.007077396917001896)\n",
      "('خون', 0.0070506307712476417)\n",
      "('دریا', 0.0068210324336577637)\n",
      "('جگر', 0.0067536208791558229)\n",
      "('داغ', 0.0066213958059868142)\n",
      "('گرم', 0.0065106930319537284)\n",
      "('قسمت', 0.0060513478970327175)\n",
      "('شاہ', 0.0060403967560068916)\n",
      "Topic # 4\n",
      "('دل', 0.030573618718274704)\n",
      "('دن', 0.020996684352351483)\n",
      "('دوست', 0.020370658531540121)\n",
      "('شکایت', 0.013457462327187707)\n",
      "('وفا', 0.012079429103546912)\n",
      "('حال', 0.010465715344523863)\n",
      "('دور', 0.0092420029781575021)\n",
      "('تلک', 0.008784362963053691)\n",
      "('مدّعا', 0.0087340624664434402)\n",
      "('جی', 0.0083575470019255707)\n",
      "('دشمن', 0.0083168174366920356)\n",
      "('سنگ', 0.0081733973225753594)\n",
      "('معلوم', 0.0077089235393703812)\n",
      "('عشق', 0.0077089214938148411)\n",
      "('نگاہ', 0.0072431452018969474)\n",
      "('گرمی', 0.00688556409935612)\n",
      "('منہ', 0.0066264486211840105)\n",
      "('غیر', 0.0061874244020386666)\n",
      "('تار', 0.0061874241741011271)\n",
      "('شراب', 0.0061843261943781806)\n",
      "Topic # 5\n",
      "('زخم', 0.028477503020292814)\n",
      "('غیر', 0.014487231719976051)\n",
      "('لذّت', 0.012057414741862777)\n",
      "('ناز', 0.011206706606534781)\n",
      "('دل', 0.01015837369856813)\n",
      "('جلوہ', 0.009995593879045828)\n",
      "('گل', 0.0089344937625446073)\n",
      "('کون', 0.0083349081418159551)\n",
      "('آنکھ', 0.0071446508886906469)\n",
      "('کام', 0.007113562066223619)\n",
      "('راہ', 0.0063551180876663194)\n",
      "('نمک', 0.0061373455981869026)\n",
      "('بزم', 0.0059818009906679624)\n",
      "('صبا', 0.0059818005207474345)\n",
      "('ہمّت', 0.0059818003827763451)\n",
      "('مطلب', 0.0059818001483629077)\n",
      "('خلوت', 0.0059601487393995973)\n",
      "('زندگی', 0.0059312146011466331)\n",
      "('خوبان', 0.0058010506050397651)\n",
      "('کہیں', 0.0057959948128624957)\n",
      "Topic # 6\n",
      "('غم', 0.018205301251177267)\n",
      "('دوست', 0.016038388677457778)\n",
      "('دیدار', 0.015630928502530124)\n",
      "('خطّ', 0.011644154474790669)\n",
      "('ظالم', 0.011434732152827547)\n",
      "('نالہ', 0.0094552056365832474)\n",
      "('رنگ', 0.009177880780338276)\n",
      "('خدا', 0.0091778801475109681)\n",
      "('ہی', 0.0091778773102530967)\n",
      "('ساتھ', 0.0090574257896882705)\n",
      "('سب', 0.0089763189379032764)\n",
      "('جگر', 0.0083578773379677333)\n",
      "('کافر', 0.0071083365607954143)\n",
      "('شمع', 0.0070952929848403252)\n",
      "('ہستی', 0.0070756122074373011)\n",
      "('منہ', 0.0069764579647923347)\n",
      "('باز', 0.0069210218942146982)\n",
      "('تماشا', 0.0069189218974470652)\n",
      "('رب', 0.0069044154031444472)\n",
      "('غلط', 0.0068877471410444899)\n",
      "Topic # 7\n",
      "('دل', 0.048988972952382838)\n",
      "('گل', 0.017047269978212109)\n",
      "('شب', 0.01248016935983921)\n",
      "('نالہ', 0.010677318095811407)\n",
      "('رنگ', 0.0099235896145792556)\n",
      "('چشم', 0.00919218221029546)\n",
      "('دم', 0.0087560064167494112)\n",
      "('آج', 0.0087229622852048258)\n",
      "('نظر', 0.0086914675491282286)\n",
      "('جلوہ', 0.008480861002797992)\n",
      "('دیدہ', 0.0073243774313244405)\n",
      "('بیان', 0.0072767218571417299)\n",
      "('بہار', 0.0072205921787763692)\n",
      "('ادھر', 0.0072104361254633556)\n",
      "('تماشا', 0.00663460965028037)\n",
      "('دنیا', 0.0065516483844077541)\n",
      "('نگاہ', 0.0058812004050559771)\n",
      "('قسمت', 0.0058787771125465901)\n",
      "('خاک', 0.005878776344368607)\n",
      "('آنکھ', 0.0058787762526157526)\n",
      "Topic # 8\n",
      "('نگاہ', 0.01928163579715016)\n",
      "('غیر', 0.018927445366554246)\n",
      "('وفا', 0.017111019465225936)\n",
      "('دل', 0.015276674539101412)\n",
      "('بت', 0.010098397874905912)\n",
      "('آج', 0.0098425046998979644)\n",
      "('تغافل', 0.0096195418501432671)\n",
      "('بعد', 0.0091631180012850637)\n",
      "('سلامت', 0.0089211538729204454)\n",
      "('ناز', 0.0089204549854601089)\n",
      "('شکوہ', 0.0088411002321055407)\n",
      "('جز', 0.0087070193117272845)\n",
      "('تاب', 0.0086842656328090084)\n",
      "('آزار', 0.0074506345018570527)\n",
      "('جان', 0.0074398135271353267)\n",
      "('رشتہ', 0.0074331636709944592)\n",
      "('ہاتھ', 0.0074045789404552633)\n",
      "('جفا', 0.0072505125522470274)\n",
      "('خطّ', 0.0069806190377903086)\n",
      "('خاک', 0.0069051169737164688)\n",
      "Topic # 9\n",
      "('دل', 0.052149355536031894)\n",
      "('در', 0.022236743951562728)\n",
      "('دیوار', 0.019087024842782119)\n",
      "('شوق', 0.013677063207171183)\n",
      "('قیامت', 0.011300528717554674)\n",
      "('زبان', 0.010944331210947364)\n",
      "('بوسہ', 0.0094118295115513916)\n",
      "('گویا', 0.0092141764822826107)\n",
      "('عشق', 0.0090566657591950664)\n",
      "('دن', 0.0087658090630388253)\n",
      "('جگر', 0.007691636153382162)\n",
      "('منہ', 0.0076277679759536405)\n",
      "('لب', 0.007618107414819609)\n",
      "('سینہ', 0.007175554385984482)\n",
      "('تیر', 0.0071755539430039738)\n",
      "('دعا', 0.0071651298466362126)\n",
      "('قدم', 0.0071602215027089253)\n",
      "('آزمائش', 0.0071028821688066644)\n",
      "('یار', 0.0070843028603107816)\n",
      "('راہ', 0.0070636169341082135)\n",
      "Topic # 10\n",
      "('غم', 0.026909342014631518)\n",
      "('بات', 0.025754101901360137)\n",
      "('بزم', 0.013553779785214827)\n",
      "('دل', 0.013198702451222715)\n",
      "('شراب', 0.011033029844053291)\n",
      "('آج', 0.010518917096496421)\n",
      "('ہوا', 0.010415226533201316)\n",
      "('پردہ', 0.0094702960809379746)\n",
      "('عشق', 0.0089114504571730178)\n",
      "('ہستی', 0.0088911346580540403)\n",
      "('ناز', 0.0088835072986835611)\n",
      "('گل', 0.0083865395152488385)\n",
      "('جلوہ', 0.0083121616917233854)\n",
      "('خدا', 0.0080098487446825673)\n",
      "('راہ', 0.0076032082959534997)\n",
      "('جوش', 0.0071187632567026853)\n",
      "('در', 0.0062292926413643314)\n",
      "('بادہ', 0.0061025746506273206)\n",
      "('یار', 0.0061025738270943054)\n",
      "('مے', 0.0060746172003046254)\n",
      "Topic # 11\n",
      "('دل', 0.029735498990900992)\n",
      "('بلا', 0.017697461691057449)\n",
      "('در', 0.01661280772571291)\n",
      "('دیوار', 0.014087396132186823)\n",
      "('جان', 0.01204005307991091)\n",
      "('بزم', 0.010834022424588014)\n",
      "('مے', 0.0094120222751669525)\n",
      "('غم', 0.0092833518513286608)\n",
      "('عمر', 0.0077791523080041015)\n",
      "('دم', 0.0077791523064172545)\n",
      "('داغ', 0.0077791512221166885)\n",
      "('ساقی', 0.0077603244542197485)\n",
      "('صورت', 0.0077392307021695696)\n",
      "('نشاط', 0.0074210448850055228)\n",
      "('عاشق', 0.007299709395478771)\n",
      "('وصل', 0.0067884327567037366)\n",
      "('ادا', 0.00670004933835683)\n",
      "('عشق', 0.0064241170663565366)\n",
      "('بات', 0.0063423459705942683)\n",
      "('دریا', 0.0062643452534469624)\n",
      "Topic # 12\n",
      "('عشق', 0.027670843894942603)\n",
      "('دل', 0.020247080392223917)\n",
      "('آزمائش', 0.013021660986298556)\n",
      "('نگاہ', 0.012574857827641471)\n",
      "('حسن', 0.01148357315435632)\n",
      "('اہل', 0.010161659713207155)\n",
      "('خدا', 0.0098023476664463975)\n",
      "('سخن', 0.0096334143087676832)\n",
      "('وحشت', 0.0094037851042258463)\n",
      "('سرمہ', 0.0093426822119146661)\n",
      "('عرض', 0.008839822174190182)\n",
      "('متاع', 0.0088370984359411441)\n",
      "('نظر', 0.0078676752632008129)\n",
      "('شعلہ', 0.0078173712936395693)\n",
      "('ہاتھ', 0.007755128327965973)\n",
      "('گرچہ', 0.0076962087946467663)\n",
      "('جگر', 0.007634332778266935)\n",
      "('جوش', 0.0074720375567202853)\n",
      "('خریدار', 0.0074584110871157659)\n",
      "('درد', 0.0070706793200205212)\n",
      "Topic # 13\n",
      "('یاد', 0.027717468506999011)\n",
      "('دل', 0.021615854199273119)\n",
      "('یار', 0.014631064512595332)\n",
      "('کافر', 0.010680194334809422)\n",
      "('ہاں', 0.010348580835699398)\n",
      "('شوق', 0.010121600465694752)\n",
      "('خیال', 0.009002004659127729)\n",
      "('زخم', 0.0085741970978918374)\n",
      "('شعلہ', 0.0084366016764969038)\n",
      "('نقش', 0.0076976605497489498)\n",
      "('عالم', 0.0071872913067298379)\n",
      "('آہ', 0.0069948480139031075)\n",
      "('لہو', 0.0069821880239500705)\n",
      "('رگ', 0.0069637630481424601)\n",
      "('نمک', 0.00696330588169053)\n",
      "('خدا', 0.0069627840701121319)\n",
      "('شمع', 0.0069471165466850442)\n",
      "('واہ', 0.0069388187995619525)\n",
      "('عجز', 0.0069221313701887137)\n",
      "('نقاب', 0.0066506240055579985)\n",
      "Topic # 14\n",
      "('گل', 0.020366195338666591)\n",
      "('غم', 0.018855772922601256)\n",
      "('شمع', 0.014442928716373302)\n",
      "('جگر', 0.013104908064450214)\n",
      "('ناز', 0.012964459622899153)\n",
      "('آئینہ', 0.012095057117987898)\n",
      "('یار', 0.012078030134691525)\n",
      "('رنگ', 0.011123582399800562)\n",
      "('کام', 0.010737999097112221)\n",
      "('بت', 0.0097735879827528828)\n",
      "('داغ', 0.0090432430357102016)\n",
      "('قطرہ', 0.0079735868490591871)\n",
      "('خبر', 0.0074731623128390561)\n",
      "('دریا', 0.0073594131910905735)\n",
      "('سو', 0.0073221932543353048)\n",
      "('خاک', 0.0070074784053238102)\n",
      "('خندہ', 0.0070074768557445832)\n",
      "('بہار', 0.0069871187065375087)\n",
      "('بسکہ', 0.0068256603003125317)\n",
      "('دل', 0.0066418470827886971)\n",
      "Topic # 15\n",
      "('دل', 0.052703840551400094)\n",
      "('خون', 0.021873987127995386)\n",
      "('شراب', 0.018430461677387985)\n",
      "('مے', 0.015491995456458704)\n",
      "('رنگ', 0.011188560560525524)\n",
      "('بستر', 0.009015006523941483)\n",
      "('لب', 0.0088920495798093715)\n",
      "('تن', 0.0083522776731659379)\n",
      "('موجہ', 0.008194676943324708)\n",
      "('جلوہ', 0.006704461375737855)\n",
      "('ہوا', 0.0066183721113490706)\n",
      "('دیدہ', 0.0066064153502287991)\n",
      "('جگر', 0.0065944587246541666)\n",
      "('قسم', 0.006099131409138309)\n",
      "('عشق', 0.0058935280125914343)\n",
      "('بے کسی', 0.0054778131730245788)\n",
      "('مژگان', 0.0053572406034494025)\n",
      "('جفا', 0.0050979148110717742)\n",
      "('سایہ', 0.0049818874974929071)\n",
      "('خورشید', 0.0049818871552255659)\n"
     ]
    }
   ],
   "source": [
    "for x in range(model.num_topics):\n",
    "    print('Topic #',x+1)\n",
    "    for w in data['topic_words'][x]:print(w)\n",
    "\n"
   ]
  },
  {
   "cell_type": "markdown",
   "metadata": {
    "slideshow": {
     "slide_type": "slide"
    }
   },
   "source": [
    "Alternative Visualization as Interactive Word Clouds\n",
    "using d3.js\n"
   ]
  },
  {
   "cell_type": "code",
   "execution_count": 40,
   "metadata": {
    "collapsed": false,
    "scrolled": false,
    "slideshow": {
     "slide_type": "skip"
    }
   },
   "outputs": [
    {
     "name": "stderr",
     "output_type": "stream",
     "text": [
      "/Users/seanpue/anaconda/envs/python3/lib/python3.5/site-packages/ipykernel/__main__.py:16: FutureWarning: sort(columns=....) is deprecated, use sort_values(by=.....)\n"
     ]
    },
    {
     "data": {
      "text/html": [
       "\n",
       "        <iframe\n",
       "            width=\"1200\"\n",
       "            height=\"800\"\n",
       "            src=\"word-cloud.html\"\n",
       "            frameborder=\"0\"\n",
       "            allowfullscreen\n",
       "        ></iframe>\n",
       "        "
      ],
      "text/plain": [
       "<IPython.lib.display.IFrame at 0x10e0e0d30>"
      ]
     },
     "execution_count": 40,
     "metadata": {},
     "output_type": "execute_result"
    }
   ],
   "source": [
    "\n",
    "clouds_template='''\n",
    "<!DOCTYPE html>\n",
    "<meta charset=\"utf-8\">\n",
    "<head>\n",
    "<script type=\"text/javascript\" src=\"d3/d3.js\"></script>\n",
    "<script type=\"text/javascript\" src=\"d3-cloud/d3.layout.cloud.js\"></script>\n",
    "<script type=\"application/json\" id=\"data\">\n",
    "\n",
    "{{topic_words_json}}\n",
    "\n",
    "</script>\n",
    "\n",
    "\n",
    "</head>\n",
    "\n",
    "<body>\n",
    "<div id=\"models\" style=\"width:50%;float:left\">\n",
    "</div>\n",
    "<div id=\"texts\" style=\"width:50%;float:left\">\n",
    "</div>\n",
    "\n",
    "<script>\n",
    "\n",
    "var fill = d3.scale.category20();\n",
    "\n",
    "var word_data;\n",
    "\n",
    "function make_cloud(cloud,id){\n",
    "    \n",
    "    \n",
    "    words = cloud.map(function(d){\n",
    "        return {text:d[0],size:d[1]*2000}\n",
    "      }).sort(function(a,b){\n",
    "        return a.size < b.size;\n",
    "      });\n",
    "    \n",
    "    word_data = words;\n",
    "      \n",
    "    d3.layout.cloud().size([800, 800])\n",
    "      .words(words)\n",
    "      .padding(1)\n",
    "      .rotate(function() { return 0})//~~(Math.random() * 2) * 90; })\n",
    "      .font(\"Impact\")\n",
    "      .fontSize(function(d) { return d.size; })\n",
    "      .on(\"end\", draw)\n",
    "      .start();\n",
    "    \n",
    "    function show_text(id){\n",
    "    \n",
    "        d3.select(\"div#texts\").selectAll('p').remove();\n",
    "        for (i=0; i<10;i++){//topic_verses[id].length; i++){\n",
    "            d3.select(\"div#texts\").append(\"p\").style(\"font-family\", \"Jameel Noori Nastaleeq\").style(\"font-size\",\"16\").text(topic_verses[id][i]).append(\"br\");\n",
    "        }\n",
    "        \n",
    " \n",
    "    }\n",
    "    \n",
    "    \n",
    "    function draw(words) {\n",
    "      d3.select(\"div#models\").append(\"svg\")\n",
    "          .attr(\"width\", 400)\n",
    "          .attr(\"height\", 400)\n",
    "        .attr(\"id\",id)\n",
    "        .on(\"click\",function(d) {show_text(this.id) } )\n",
    "        .append(\"g\")\n",
    "          .attr(\"transform\", \"translate(400,400)\")\n",
    "        .selectAll(\"text\")\n",
    "          .data(words)\n",
    "        .enter().append(\"text\")\n",
    "          .style(\"font-size\", function(d) { return d.size + \"px\"; })\n",
    "          .style(\"font-family\", \"Jameel Noori Nastaleeq\")\n",
    "          .style(\"fill\", function(d, i) { return 0;})//fill(i); })\n",
    "          .attr(\"text-anchor\", \"middle\")\n",
    "          .attr(\"transform\", function(d) {\n",
    "            return \"translate(\" + [d.x, d.y] + \")rotate(\" + d.rotate + \")\";\n",
    "          })\n",
    "          .text(function(d) { return d.text; });\n",
    "    }\n",
    "    \n",
    "    \n",
    "}\n",
    "\n",
    "\n",
    "var num_topics = {{num_topics}};\n",
    "\n",
    "var json_data = JSON.parse(document.getElementById('data').innerHTML);\n",
    "topic_words = json_data['topic_words'];\n",
    "topic_verses = json_data['topic_verses'];\n",
    "for (i=0;i<num_topics;i++) {\n",
    "  id = \"topic_\"+i;\n",
    "  make_cloud(topic_words[i], id);\n",
    "  \n",
    "}\n",
    "</script>\n",
    "</body>\n",
    "</html>\n",
    "'''\n",
    "\n",
    "from IPython.display import IFrame\n",
    "import os\n",
    "import json\n",
    "num_words = 100\n",
    "    \n",
    "count=0\n",
    "last_fun = None\n",
    "def serve_html(s,w,h):\n",
    "    import os\n",
    "    global count\n",
    "    count+=1\n",
    "    fn= '__tmp'+str(os.getpid())+'_'+str(count)+'.html'\n",
    "    global last_fn\n",
    "    last_fn = fn\n",
    "    with open(fn,'w') as f:\n",
    "        f.write(s)\n",
    "    return IFrame('files/'+fn,w,h)\n",
    "\n",
    "def gen_clouds():\n",
    "    global model\n",
    "    num_words = 100\n",
    "    data = {'topic_words': [model.show_topic(i,topn=num_words) for i in range(model.num_topics)],\n",
    "            'topic_verses': get_verses()}\n",
    "    topic_words_json = json.dumps(data)\n",
    "    s=Template(clouds_template).render(num_topics=model.num_topics,topic_words_json = topic_words_json)\n",
    "\n",
    "    with open('word-cloud.html',\"w\") as f:\n",
    "        f.write(s)\n",
    "#    IFrame('word-cloud.html',width=1200,height=800)\n",
    "    #return(serve_html(s,1200,800))\n",
    "\n",
    "gen_clouds()\n",
    "IFrame('word-cloud.html',width=1200,height=800)\n",
    "#IFrame"
   ]
  },
  {
   "cell_type": "raw",
   "metadata": {
    "slideshow": {
     "slide_type": "fragment"
    }
   },
   "source": [
    "<iframe src=\"./word-cloud.html\" width=1500 height=1000></iframe>"
   ]
  },
  {
   "cell_type": "markdown",
   "metadata": {
    "slideshow": {
     "slide_type": "slide"
    }
   },
   "source": [
    "# Why topic model?"
   ]
  },
  {
   "cell_type": "markdown",
   "metadata": {
    "slideshow": {
     "slide_type": "fragment"
    }
   },
   "source": [
    "## information extraction"
   ]
  },
  {
   "cell_type": "markdown",
   "metadata": {
    "slideshow": {
     "slide_type": "fragment"
    }
   },
   "source": [
    "## show changes over time or text\n"
   ]
  },
  {
   "cell_type": "markdown",
   "metadata": {
    "slideshow": {
     "slide_type": "fragment"
    }
   },
   "source": [
    "## compare one text/corpus with another\n"
   ]
  },
  {
   "cell_type": "markdown",
   "metadata": {
    "slideshow": {
     "slide_type": "fragment"
    }
   },
   "source": [
    "## get access to texts in different ways"
   ]
  },
  {
   "cell_type": "markdown",
   "metadata": {
    "slideshow": {
     "slide_type": "slide"
    }
   },
   "source": [
    "# How does this model of the topic or theme align with Urdu-based rhetorical understandings?"
   ]
  },
  {
   "cell_type": "markdown",
   "metadata": {
    "slideshow": {
     "slide_type": "fragment"
    }
   },
   "source": [
    "## more specifically, how does it compare to the idea of the *maẓmūn* (theme)"
   ]
  },
  {
   "cell_type": "raw",
   "metadata": {
    "slideshow": {
     "slide_type": "slide"
    }
   },
   "source": [
    "<div style=\"font:32pt Jameel Noori Nastaleeq\">\n",
    "راہ مضمون تازہ بند نہیں\n",
    "<br/>\n",
    "تا قیامت کھلا ہے باب سخن\n",
    "</div>\n"
   ]
  },
  {
   "cell_type": "markdown",
   "metadata": {
    "slideshow": {
     "slide_type": "fragment"
    }
   },
   "source": [
    "The road of fresh themes is not closed\n",
    "\n",
    "The gate of poetry is open until Doomsday\n",
    "\n",
    "    -Valī Dakkanī (1667-1707)\n",
    "\n"
   ]
  },
  {
   "cell_type": "markdown",
   "metadata": {
    "slideshow": {
     "slide_type": "slide"
    }
   },
   "source": [
    "*maẓmūn āfrīnī* Creation of themes\n",
    "\n",
    "the beloved is a hunter\n",
    "\n",
    "the beloved lies in wait for the the prey\n",
    "\n",
    "the hunter slaughters the prey\n",
    "\n",
    "the hunter makes into a kabob the prey\n",
    "\n",
    "the beloved is the prey\n",
    "\n",
    "\n"
   ]
  },
  {
   "cell_type": "markdown",
   "metadata": {
    "slideshow": {
     "slide_type": "slide"
    }
   },
   "source": [
    "Perhaps as an Resource Data Framework (RDF) triple?\n",
    "\n",
    "subject -> predicate -> object"
   ]
  },
  {
   "cell_type": "code",
   "execution_count": 34,
   "metadata": {
    "collapsed": false,
    "slideshow": {
     "slide_type": "skip"
    }
   },
   "outputs": [],
   "source": [
    "import pydot\n",
    "\n",
    "dot_object = pydot.Dot(graph_name=\"main_graph\",rankdir=\"LR\", labelloc='b', \n",
    "                       labeljust='r', ranksep=1)\n",
    "\n",
    "node1 = pydot.Node(name='node1', texlbl=r'topic1', label='Subject', shape='square')\n",
    "dot_object.add_node(node1)\n",
    "node2 = pydot.Node(name='node2', texlbl=r'topic2', label='Object', shape='square')\n",
    "dot_object.add_node(node2)\n",
    "dot_object.add_edge(pydot.Edge(node1, node2,label=\"Predicate\"))\n",
    "#dot_object.write('graph.dotfile', format='raw', prog='dot')\n",
    "dot_object.write_png('basic_triple.png', prog='dot')\n",
    "from IPython.display import Image\n",
    "#Image('basic_triple.png')"
   ]
  },
  {
   "cell_type": "markdown",
   "metadata": {
    "slideshow": {
     "slide_type": "fragment"
    }
   },
   "source": [
    "![Basic Triple](basic_triple.png)\n"
   ]
  },
  {
   "cell_type": "code",
   "execution_count": 35,
   "metadata": {
    "collapsed": false,
    "slideshow": {
     "slide_type": "skip"
    }
   },
   "outputs": [],
   "source": [
    "#import pydot\n",
    "\n",
    "dot_object = pydot.Dot(graph_name=\"main_graph\",rankdir=\"LR\", labelloc='b', \n",
    "                       labeljust='r', ranksep=1)\n",
    "\n",
    "node1 = pydot.Node(name='node1', texlbl=r'topic1', label='Beloved', shape='square')\n",
    "dot_object.add_node(node1)\n",
    "node2 = pydot.Node(name='node2', texlbl=r'topic2', label='Lover', shape='square')\n",
    "dot_object.add_node(node2)\n",
    "node3 = pydot.Node(name='node3', texlbl=r'topic3', label='Cruelty', shape='square')\n",
    "dot_object.add_node(node3)\n",
    "dot_object.add_edge(pydot.Edge(node1, node2,label=\"hunts\"))\n",
    "dot_object.add_edge(pydot.Edge(node1, node3,label=\"exhibits\"))\n",
    "dot_object.add_edge(pydot.Edge(node2, node1,label=\"loves\"))\n",
    "dot_object.add_edge(pydot.Edge(node2, node3,label=\"suffers\"))\n",
    "#dot_object.write('graph.dotfile', format='raw', prog='dot')\n",
    "dot_object.write_png('example_triple1.png', prog='dot')\n",
    "from IPython.display import Image\n",
    "#Image('example_triple1.png')"
   ]
  },
  {
   "cell_type": "markdown",
   "metadata": {
    "slideshow": {
     "slide_type": "fragment"
    }
   },
   "source": [
    "![Example Triple](example_triple1.png)"
   ]
  },
  {
   "cell_type": "markdown",
   "metadata": {
    "slideshow": {
     "slide_type": "slide"
    }
   },
   "source": [
    "Thanks!\n",
    "\n",
    "Sean Pue\n",
    "\n",
    "pue@msu.edu\n",
    "\n",
    "@seanpue"
   ]
  },
  {
   "cell_type": "code",
   "execution_count": null,
   "metadata": {
    "collapsed": true,
    "slideshow": {
     "slide_type": "skip"
    }
   },
   "outputs": [],
   "source": []
  }
 ],
 "metadata": {
  "celltoolbar": "Slideshow",
  "kernelspec": {
   "display_name": "Python 3",
   "language": "python",
   "name": "python3"
  },
  "language_info": {
   "codemirror_mode": {
    "name": "ipython",
    "version": 3
   },
   "file_extension": ".py",
   "mimetype": "text/x-python",
   "name": "python",
   "nbconvert_exporter": "python",
   "pygments_lexer": "ipython3",
   "version": "3.5.1"
  },
  "name": "_merged"
 },
 "nbformat": 4,
 "nbformat_minor": 0
}
